{
 "cells": [
  {
   "cell_type": "markdown",
   "id": "7a86d6d7",
   "metadata": {
    "papermill": {
     "duration": 0.018984,
     "end_time": "2023-11-30T05:33:12.552257",
     "exception": false,
     "start_time": "2023-11-30T05:33:12.533273",
     "status": "completed"
    },
    "tags": []
   },
   "source": [
    "Step 1: Ask****"
   ]
  },
  {
   "cell_type": "markdown",
   "id": "811b0774",
   "metadata": {
    "papermill": {
     "duration": 0.017025,
     "end_time": "2023-11-30T05:33:12.585903",
     "exception": false,
     "start_time": "2023-11-30T05:33:12.568878",
     "status": "completed"
    },
    "tags": []
   },
   "source": [
    "For the business objective of this case study, the central aim is to devise marketing strategies that are adept at transforming casual riders into annual members by leveraging the power of data analytics. The focus is to deeply understand user patterns and preferences from historical bike trip data to drive highly targeted marketing campaigns. The ultimate intention is to enhance the company's profitability and support its continued growth trajectory.\n",
    "\n",
    "Analytical Responsibilities\n",
    "\n",
    "* Conduct a thorough examination of Cyclistic’s historical bike trip data.\n",
    "* Identify and interpret usage trends and patterns differentiating casual from member riders.\n",
    "* Investigate the unique behaviors and preferences of these two distinct rider groups.\n",
    "* Pinpoint specific moments where targeted marketing can effectively encourage casual riders to become members.\n",
    "* Utilize these insights to develop a data-driven, innovative marketing strategy for Cyclistic.\n",
    "* Aim to improve financial returns and foster the company's development.\n",
    "\n",
    "Stakeholders Involved\n",
    "\n",
    "* Lily Moreno, the Marketing Director at Cyclistic, who oversees the implementation of marketing initiatives.\n",
    "* The marketing analytics team at Cyclistic, responsible for the data analysis and the creation of the marketing strategy.\n",
    "* Casual riders at Cyclistic, who are the primary target of the marketing campaign and whose behaviors will be scrutinized.\n",
    "* Annual members at Cyclistic, who serve as the model for converting casual riders.\n",
    "* Investors and shareholders of Cyclistic, who have a vested interest in the company's profitability and the success of its marketing strategies."
   ]
  },
  {
   "cell_type": "markdown",
   "id": "2b5ffe6a",
   "metadata": {
    "papermill": {
     "duration": 0.017113,
     "end_time": "2023-11-30T05:33:12.619815",
     "exception": false,
     "start_time": "2023-11-30T05:33:12.602702",
     "status": "completed"
    },
    "tags": []
   },
   "source": [
    "Step 2: Prepare****"
   ]
  },
  {
   "cell_type": "markdown",
   "id": "fcebafe5",
   "metadata": {
    "papermill": {
     "duration": 0.016872,
     "end_time": "2023-11-30T05:33:12.653903",
     "exception": false,
     "start_time": "2023-11-30T05:33:12.637031",
     "status": "completed"
    },
    "tags": []
   },
   "source": [
    "Data Accessibility:\n",
    "The data set for this study is composed of historical trip data from Cyclistic’s operational records.\n",
    "\n",
    "Data Provenance:\n",
    "The data originates from Cyclistic's internal systems and has been provided by Motivate International Inc., adhering to a defined licensing agreement that governs its use.\n",
    "\n",
    "Data Structure:\n",
    "The data is organized into monthly CSV files covering a full calendar year from January to December 2022. It comprises 13 distinct columns detailing a range of trip attributes.\n",
    "\n",
    "Data Quality Assessment (ROCCC):\n",
    "* Reliability: The data’s reliability has not been formally established and warrants verification.\n",
    "* Originality: The data's originality has not been independently confirmed.\n",
    "* Comprehensiveness: The data set is comprehensive, including critical variables such as trip duration, user type, gender, and station information, which are essential for the intended trend analysis.\n",
    "* Currency: The data is current, with records spanning from 2013 to 2022.\n",
    "* Citation: Details regarding the data citation are not disclosed.\n",
    "\n",
    "Data Ethics and Governance:\n",
    "The data set has been anonymized to remove personally identifiable information in compliance with data privacy standards. This level of anonymization limits the scope of analysis, particularly in terms of identifying repeat casual users or verifying their locality in relation to the service area.\n",
    "\n",
    "Data Utilization for Strategic Planning:\n",
    "The analysis aims to discern behavioral patterns between casual and member users to develop a strategic plan that persuades casual riders to convert to full membership.\n",
    "\n",
    "Data Integration and Cleaning:\n",
    "A unified data set is required from the 12 individual monthly files to conduct a streamlined analysis. This process involves the elimination of extraneous variables, along with the correction of errors and removal of duplicate entries to maintain the integrity of the data set."
   ]
  },
  {
   "cell_type": "markdown",
   "id": "c64e43aa",
   "metadata": {
    "papermill": {
     "duration": 0.016394,
     "end_time": "2023-11-30T05:33:12.686823",
     "exception": false,
     "start_time": "2023-11-30T05:33:12.670429",
     "status": "completed"
    },
    "tags": []
   },
   "source": [
    "Step 3: Process****"
   ]
  },
  {
   "cell_type": "code",
   "execution_count": 1,
   "id": "65e59206",
   "metadata": {
    "execution": {
     "iopub.execute_input": "2023-11-30T05:33:12.724930Z",
     "iopub.status.busy": "2023-11-30T05:33:12.722188Z",
     "iopub.status.idle": "2023-11-30T05:33:14.161414Z",
     "shell.execute_reply": "2023-11-30T05:33:14.159033Z"
    },
    "papermill": {
     "duration": 1.461314,
     "end_time": "2023-11-30T05:33:14.164406",
     "exception": false,
     "start_time": "2023-11-30T05:33:12.703092",
     "status": "completed"
    },
    "tags": []
   },
   "outputs": [
    {
     "name": "stderr",
     "output_type": "stream",
     "text": [
      "── \u001b[1mAttaching core tidyverse packages\u001b[22m ──────────────────────── tidyverse 2.0.0 ──\n",
      "\u001b[32m✔\u001b[39m \u001b[34mdplyr    \u001b[39m 1.1.3     \u001b[32m✔\u001b[39m \u001b[34mreadr    \u001b[39m 2.1.4\n",
      "\u001b[32m✔\u001b[39m \u001b[34mforcats  \u001b[39m 1.0.0     \u001b[32m✔\u001b[39m \u001b[34mstringr  \u001b[39m 1.5.0\n",
      "\u001b[32m✔\u001b[39m \u001b[34mggplot2  \u001b[39m 3.4.4     \u001b[32m✔\u001b[39m \u001b[34mtibble   \u001b[39m 3.2.1\n",
      "\u001b[32m✔\u001b[39m \u001b[34mlubridate\u001b[39m 1.9.3     \u001b[32m✔\u001b[39m \u001b[34mtidyr    \u001b[39m 1.3.0\n",
      "\u001b[32m✔\u001b[39m \u001b[34mpurrr    \u001b[39m 1.0.2     \n",
      "── \u001b[1mConflicts\u001b[22m ────────────────────────────────────────── tidyverse_conflicts() ──\n",
      "\u001b[31m✖\u001b[39m \u001b[34mdplyr\u001b[39m::\u001b[32mfilter()\u001b[39m masks \u001b[34mstats\u001b[39m::filter()\n",
      "\u001b[31m✖\u001b[39m \u001b[34mdplyr\u001b[39m::\u001b[32mlag()\u001b[39m    masks \u001b[34mstats\u001b[39m::lag()\n",
      "\u001b[36mℹ\u001b[39m Use the conflicted package (\u001b[3m\u001b[34m<http://conflicted.r-lib.org/>\u001b[39m\u001b[23m) to force all conflicts to become errors\n"
     ]
    }
   ],
   "source": [
    "library(tidyverse) "
   ]
  },
  {
   "cell_type": "code",
   "execution_count": 2,
   "id": "2706c4bd",
   "metadata": {
    "execution": {
     "iopub.execute_input": "2023-11-30T05:33:14.242011Z",
     "iopub.status.busy": "2023-11-30T05:33:14.204062Z",
     "iopub.status.idle": "2023-11-30T05:33:14.258085Z",
     "shell.execute_reply": "2023-11-30T05:33:14.255862Z"
    },
    "papermill": {
     "duration": 0.07743,
     "end_time": "2023-11-30T05:33:14.261211",
     "exception": false,
     "start_time": "2023-11-30T05:33:14.183781",
     "status": "completed"
    },
    "tags": []
   },
   "outputs": [],
   "source": [
    "library(lubridate)"
   ]
  },
  {
   "cell_type": "code",
   "execution_count": 3,
   "id": "6f33afc3",
   "metadata": {
    "execution": {
     "iopub.execute_input": "2023-11-30T05:33:14.300419Z",
     "iopub.status.busy": "2023-11-30T05:33:14.298398Z",
     "iopub.status.idle": "2023-11-30T05:33:14.316749Z",
     "shell.execute_reply": "2023-11-30T05:33:14.314455Z"
    },
    "papermill": {
     "duration": 0.040762,
     "end_time": "2023-11-30T05:33:14.319546",
     "exception": false,
     "start_time": "2023-11-30T05:33:14.278784",
     "status": "completed"
    },
    "tags": []
   },
   "outputs": [],
   "source": [
    "library(dplyr)"
   ]
  },
  {
   "cell_type": "code",
   "execution_count": 4,
   "id": "e85db003",
   "metadata": {
    "execution": {
     "iopub.execute_input": "2023-11-30T05:33:14.358119Z",
     "iopub.status.busy": "2023-11-30T05:33:14.356096Z",
     "iopub.status.idle": "2023-11-30T05:33:14.436269Z",
     "shell.execute_reply": "2023-11-30T05:33:14.422066Z"
    },
    "papermill": {
     "duration": 0.103293,
     "end_time": "2023-11-30T05:33:14.439615",
     "exception": false,
     "start_time": "2023-11-30T05:33:14.336322",
     "status": "completed"
    },
    "tags": []
   },
   "outputs": [
    {
     "name": "stderr",
     "output_type": "stream",
     "text": [
      "\n",
      "Attaching package: ‘janitor’\n",
      "\n",
      "\n",
      "The following objects are masked from ‘package:stats’:\n",
      "\n",
      "    chisq.test, fisher.test\n",
      "\n",
      "\n"
     ]
    }
   ],
   "source": [
    "library(janitor)"
   ]
  },
  {
   "cell_type": "code",
   "execution_count": 5,
   "id": "6db3243c",
   "metadata": {
    "execution": {
     "iopub.execute_input": "2023-11-30T05:33:14.479022Z",
     "iopub.status.busy": "2023-11-30T05:33:14.476936Z",
     "iopub.status.idle": "2023-11-30T05:33:14.625591Z",
     "shell.execute_reply": "2023-11-30T05:33:14.623005Z"
    },
    "papermill": {
     "duration": 0.171335,
     "end_time": "2023-11-30T05:33:14.628509",
     "exception": false,
     "start_time": "2023-11-30T05:33:14.457174",
     "status": "completed"
    },
    "tags": []
   },
   "outputs": [
    {
     "name": "stderr",
     "output_type": "stream",
     "text": [
      "\n",
      "Attaching package: ‘data.table’\n",
      "\n",
      "\n",
      "The following objects are masked from ‘package:lubridate’:\n",
      "\n",
      "    hour, isoweek, mday, minute, month, quarter, second, wday, week,\n",
      "    yday, year\n",
      "\n",
      "\n",
      "The following objects are masked from ‘package:dplyr’:\n",
      "\n",
      "    between, first, last\n",
      "\n",
      "\n",
      "The following object is masked from ‘package:purrr’:\n",
      "\n",
      "    transpose\n",
      "\n",
      "\n"
     ]
    }
   ],
   "source": [
    "library(data.table)"
   ]
  },
  {
   "cell_type": "code",
   "execution_count": 6,
   "id": "6c3e9bd5",
   "metadata": {
    "execution": {
     "iopub.execute_input": "2023-11-30T05:33:14.670037Z",
     "iopub.status.busy": "2023-11-30T05:33:14.667965Z",
     "iopub.status.idle": "2023-11-30T05:33:14.686716Z",
     "shell.execute_reply": "2023-11-30T05:33:14.684258Z"
    },
    "papermill": {
     "duration": 0.042896,
     "end_time": "2023-11-30T05:33:14.689749",
     "exception": false,
     "start_time": "2023-11-30T05:33:14.646853",
     "status": "completed"
    },
    "tags": []
   },
   "outputs": [],
   "source": [
    "library(readr)"
   ]
  },
  {
   "cell_type": "code",
   "execution_count": 7,
   "id": "86bee381",
   "metadata": {
    "execution": {
     "iopub.execute_input": "2023-11-30T05:33:14.731652Z",
     "iopub.status.busy": "2023-11-30T05:33:14.729451Z",
     "iopub.status.idle": "2023-11-30T05:33:14.920459Z",
     "shell.execute_reply": "2023-11-30T05:33:14.918207Z"
    },
    "papermill": {
     "duration": 0.216173,
     "end_time": "2023-11-30T05:33:14.923408",
     "exception": false,
     "start_time": "2023-11-30T05:33:14.707235",
     "status": "completed"
    },
    "tags": []
   },
   "outputs": [
    {
     "name": "stderr",
     "output_type": "stream",
     "text": [
      "\n",
      "Attaching package: ‘psych’\n",
      "\n",
      "\n",
      "The following objects are masked from ‘package:ggplot2’:\n",
      "\n",
      "    %+%, alpha\n",
      "\n",
      "\n"
     ]
    }
   ],
   "source": [
    "library(psych)"
   ]
  },
  {
   "cell_type": "code",
   "execution_count": 8,
   "id": "db22c313",
   "metadata": {
    "execution": {
     "iopub.execute_input": "2023-11-30T05:33:14.965633Z",
     "iopub.status.busy": "2023-11-30T05:33:14.963500Z",
     "iopub.status.idle": "2023-11-30T05:33:15.699437Z",
     "shell.execute_reply": "2023-11-30T05:33:15.697189Z"
    },
    "papermill": {
     "duration": 0.760213,
     "end_time": "2023-11-30T05:33:15.702274",
     "exception": false,
     "start_time": "2023-11-30T05:33:14.942061",
     "status": "completed"
    },
    "tags": []
   },
   "outputs": [
    {
     "name": "stderr",
     "output_type": "stream",
     "text": [
      "NOTE: Either Arial Narrow or Roboto Condensed fonts are required to use these themes.\n",
      "\n",
      "      Please use hrbrthemes::import_roboto_condensed() to install Roboto Condensed and\n",
      "\n",
      "      if Arial Narrow is not on your system, please see https://bit.ly/arialnarrow\n",
      "\n"
     ]
    }
   ],
   "source": [
    "library(hrbrthemes)"
   ]
  },
  {
   "cell_type": "code",
   "execution_count": 9,
   "id": "cbaf9b3c",
   "metadata": {
    "execution": {
     "iopub.execute_input": "2023-11-30T05:33:15.743999Z",
     "iopub.status.busy": "2023-11-30T05:33:15.742099Z",
     "iopub.status.idle": "2023-11-30T05:33:15.761287Z",
     "shell.execute_reply": "2023-11-30T05:33:15.759109Z"
    },
    "papermill": {
     "duration": 0.043812,
     "end_time": "2023-11-30T05:33:15.764418",
     "exception": false,
     "start_time": "2023-11-30T05:33:15.720606",
     "status": "completed"
    },
    "tags": []
   },
   "outputs": [],
   "source": [
    "library(ggplot2)"
   ]
  },
  {
   "cell_type": "code",
   "execution_count": 10,
   "id": "470f31a3",
   "metadata": {
    "execution": {
     "iopub.execute_input": "2023-11-30T05:33:15.806890Z",
     "iopub.status.busy": "2023-11-30T05:33:15.804930Z",
     "iopub.status.idle": "2023-11-30T05:35:38.856428Z",
     "shell.execute_reply": "2023-11-30T05:35:38.854020Z"
    },
    "papermill": {
     "duration": 143.076583,
     "end_time": "2023-11-30T05:35:38.859262",
     "exception": false,
     "start_time": "2023-11-30T05:33:15.782679",
     "status": "completed"
    },
    "tags": []
   },
   "outputs": [],
   "source": [
    "trip_202201 <- read.csv(\"/kaggle/input/cyclistic/202201-divvy-tripdata.csv\")\n",
    "trip_202202 <- read.csv(\"/kaggle/input/cyclistic/202202-divvy-tripdata.csv\")\n",
    "trip_202203 <- read.csv(\"/kaggle/input/cyclistic/202203-divvy-tripdata.csv\")\n",
    "trip_202204 <- read.csv(\"/kaggle/input/cyclistic/202204-divvy-tripdata.csv\")\n",
    "trip_202205 <- read.csv(\"/kaggle/input/cyclistic/202205-divvy-tripdata.csv\")\n",
    "trip_202206 <- read.csv(\"/kaggle/input/cyclistic/202206-divvy-tripdata.csv\")\n",
    "trip_202207 <- read.csv(\"/kaggle/input/cyclistic/202207-divvy-tripdata.csv\")\n",
    "trip_202208 <- read.csv(\"/kaggle/input/cyclistic/202208-divvy-tripdata.csv\")\n",
    "trip_202209 <- read.csv(\"/kaggle/input/cyclistic/202209-divvy-publictripdata.csv\")\n",
    "trip_202210 <- read.csv(\"/kaggle/input/cyclistic/202210-divvy-tripdata.csv\")\n",
    "trip_202211 <- read.csv(\"/kaggle/input/cyclistic/202211-divvy-tripdata.csv\")\n",
    "trip_202212 <- read.csv(\"/kaggle/input/cyclistic/202212-divvy-tripdata.csv\")"
   ]
  },
  {
   "cell_type": "code",
   "execution_count": 11,
   "id": "2de5e118",
   "metadata": {
    "execution": {
     "iopub.execute_input": "2023-11-30T05:35:38.905136Z",
     "iopub.status.busy": "2023-11-30T05:35:38.902772Z",
     "iopub.status.idle": "2023-11-30T05:35:38.929852Z",
     "shell.execute_reply": "2023-11-30T05:35:38.927744Z"
    },
    "papermill": {
     "duration": 0.051937,
     "end_time": "2023-11-30T05:35:38.933010",
     "exception": false,
     "start_time": "2023-11-30T05:35:38.881073",
     "status": "completed"
    },
    "tags": []
   },
   "outputs": [
    {
     "data": {
      "text/html": [
       "<style>\n",
       ".list-inline {list-style: none; margin:0; padding: 0}\n",
       ".list-inline>li {display: inline-block}\n",
       ".list-inline>li:not(:last-child)::after {content: \"\\00b7\"; padding: 0 .5ex}\n",
       "</style>\n",
       "<ol class=list-inline><li>'ride_id'</li><li>'rideable_type'</li><li>'started_at'</li><li>'ended_at'</li><li>'start_station_name'</li><li>'start_station_id'</li><li>'end_station_name'</li><li>'end_station_id'</li><li>'start_lat'</li><li>'start_lng'</li><li>'end_lat'</li><li>'end_lng'</li><li>'member_casual'</li></ol>\n"
      ],
      "text/latex": [
       "\\begin{enumerate*}\n",
       "\\item 'ride\\_id'\n",
       "\\item 'rideable\\_type'\n",
       "\\item 'started\\_at'\n",
       "\\item 'ended\\_at'\n",
       "\\item 'start\\_station\\_name'\n",
       "\\item 'start\\_station\\_id'\n",
       "\\item 'end\\_station\\_name'\n",
       "\\item 'end\\_station\\_id'\n",
       "\\item 'start\\_lat'\n",
       "\\item 'start\\_lng'\n",
       "\\item 'end\\_lat'\n",
       "\\item 'end\\_lng'\n",
       "\\item 'member\\_casual'\n",
       "\\end{enumerate*}\n"
      ],
      "text/markdown": [
       "1. 'ride_id'\n",
       "2. 'rideable_type'\n",
       "3. 'started_at'\n",
       "4. 'ended_at'\n",
       "5. 'start_station_name'\n",
       "6. 'start_station_id'\n",
       "7. 'end_station_name'\n",
       "8. 'end_station_id'\n",
       "9. 'start_lat'\n",
       "10. 'start_lng'\n",
       "11. 'end_lat'\n",
       "12. 'end_lng'\n",
       "13. 'member_casual'\n",
       "\n",
       "\n"
      ],
      "text/plain": [
       " [1] \"ride_id\"            \"rideable_type\"      \"started_at\"        \n",
       " [4] \"ended_at\"           \"start_station_name\" \"start_station_id\"  \n",
       " [7] \"end_station_name\"   \"end_station_id\"     \"start_lat\"         \n",
       "[10] \"start_lng\"          \"end_lat\"            \"end_lng\"           \n",
       "[13] \"member_casual\"     "
      ]
     },
     "metadata": {},
     "output_type": "display_data"
    }
   ],
   "source": [
    "colnames(trip_202201)"
   ]
  },
  {
   "cell_type": "code",
   "execution_count": 12,
   "id": "6afc958d",
   "metadata": {
    "execution": {
     "iopub.execute_input": "2023-11-30T05:35:38.974657Z",
     "iopub.status.busy": "2023-11-30T05:35:38.972761Z",
     "iopub.status.idle": "2023-11-30T05:35:38.994864Z",
     "shell.execute_reply": "2023-11-30T05:35:38.992620Z"
    },
    "papermill": {
     "duration": 0.046352,
     "end_time": "2023-11-30T05:35:38.997911",
     "exception": false,
     "start_time": "2023-11-30T05:35:38.951559",
     "status": "completed"
    },
    "tags": []
   },
   "outputs": [
    {
     "data": {
      "text/html": [
       "<style>\n",
       ".list-inline {list-style: none; margin:0; padding: 0}\n",
       ".list-inline>li {display: inline-block}\n",
       ".list-inline>li:not(:last-child)::after {content: \"\\00b7\"; padding: 0 .5ex}\n",
       "</style>\n",
       "<ol class=list-inline><li>'ride_id'</li><li>'rideable_type'</li><li>'started_at'</li><li>'ended_at'</li><li>'start_station_name'</li><li>'start_station_id'</li><li>'end_station_name'</li><li>'end_station_id'</li><li>'start_lat'</li><li>'start_lng'</li><li>'end_lat'</li><li>'end_lng'</li><li>'member_casual'</li></ol>\n"
      ],
      "text/latex": [
       "\\begin{enumerate*}\n",
       "\\item 'ride\\_id'\n",
       "\\item 'rideable\\_type'\n",
       "\\item 'started\\_at'\n",
       "\\item 'ended\\_at'\n",
       "\\item 'start\\_station\\_name'\n",
       "\\item 'start\\_station\\_id'\n",
       "\\item 'end\\_station\\_name'\n",
       "\\item 'end\\_station\\_id'\n",
       "\\item 'start\\_lat'\n",
       "\\item 'start\\_lng'\n",
       "\\item 'end\\_lat'\n",
       "\\item 'end\\_lng'\n",
       "\\item 'member\\_casual'\n",
       "\\end{enumerate*}\n"
      ],
      "text/markdown": [
       "1. 'ride_id'\n",
       "2. 'rideable_type'\n",
       "3. 'started_at'\n",
       "4. 'ended_at'\n",
       "5. 'start_station_name'\n",
       "6. 'start_station_id'\n",
       "7. 'end_station_name'\n",
       "8. 'end_station_id'\n",
       "9. 'start_lat'\n",
       "10. 'start_lng'\n",
       "11. 'end_lat'\n",
       "12. 'end_lng'\n",
       "13. 'member_casual'\n",
       "\n",
       "\n"
      ],
      "text/plain": [
       " [1] \"ride_id\"            \"rideable_type\"      \"started_at\"        \n",
       " [4] \"ended_at\"           \"start_station_name\" \"start_station_id\"  \n",
       " [7] \"end_station_name\"   \"end_station_id\"     \"start_lat\"         \n",
       "[10] \"start_lng\"          \"end_lat\"            \"end_lng\"           \n",
       "[13] \"member_casual\"     "
      ]
     },
     "metadata": {},
     "output_type": "display_data"
    }
   ],
   "source": [
    "colnames(trip_202202)"
   ]
  },
  {
   "cell_type": "code",
   "execution_count": 13,
   "id": "b2f9f188",
   "metadata": {
    "execution": {
     "iopub.execute_input": "2023-11-30T05:35:39.041093Z",
     "iopub.status.busy": "2023-11-30T05:35:39.038784Z",
     "iopub.status.idle": "2023-11-30T05:35:39.062896Z",
     "shell.execute_reply": "2023-11-30T05:35:39.060444Z"
    },
    "papermill": {
     "duration": 0.048146,
     "end_time": "2023-11-30T05:35:39.065905",
     "exception": false,
     "start_time": "2023-11-30T05:35:39.017759",
     "status": "completed"
    },
    "tags": []
   },
   "outputs": [
    {
     "data": {
      "text/html": [
       "<style>\n",
       ".list-inline {list-style: none; margin:0; padding: 0}\n",
       ".list-inline>li {display: inline-block}\n",
       ".list-inline>li:not(:last-child)::after {content: \"\\00b7\"; padding: 0 .5ex}\n",
       "</style>\n",
       "<ol class=list-inline><li>'ride_id'</li><li>'rideable_type'</li><li>'started_at'</li><li>'ended_at'</li><li>'start_station_name'</li><li>'start_station_id'</li><li>'end_station_name'</li><li>'end_station_id'</li><li>'start_lat'</li><li>'start_lng'</li><li>'end_lat'</li><li>'end_lng'</li><li>'member_casual'</li></ol>\n"
      ],
      "text/latex": [
       "\\begin{enumerate*}\n",
       "\\item 'ride\\_id'\n",
       "\\item 'rideable\\_type'\n",
       "\\item 'started\\_at'\n",
       "\\item 'ended\\_at'\n",
       "\\item 'start\\_station\\_name'\n",
       "\\item 'start\\_station\\_id'\n",
       "\\item 'end\\_station\\_name'\n",
       "\\item 'end\\_station\\_id'\n",
       "\\item 'start\\_lat'\n",
       "\\item 'start\\_lng'\n",
       "\\item 'end\\_lat'\n",
       "\\item 'end\\_lng'\n",
       "\\item 'member\\_casual'\n",
       "\\end{enumerate*}\n"
      ],
      "text/markdown": [
       "1. 'ride_id'\n",
       "2. 'rideable_type'\n",
       "3. 'started_at'\n",
       "4. 'ended_at'\n",
       "5. 'start_station_name'\n",
       "6. 'start_station_id'\n",
       "7. 'end_station_name'\n",
       "8. 'end_station_id'\n",
       "9. 'start_lat'\n",
       "10. 'start_lng'\n",
       "11. 'end_lat'\n",
       "12. 'end_lng'\n",
       "13. 'member_casual'\n",
       "\n",
       "\n"
      ],
      "text/plain": [
       " [1] \"ride_id\"            \"rideable_type\"      \"started_at\"        \n",
       " [4] \"ended_at\"           \"start_station_name\" \"start_station_id\"  \n",
       " [7] \"end_station_name\"   \"end_station_id\"     \"start_lat\"         \n",
       "[10] \"start_lng\"          \"end_lat\"            \"end_lng\"           \n",
       "[13] \"member_casual\"     "
      ]
     },
     "metadata": {},
     "output_type": "display_data"
    }
   ],
   "source": [
    "colnames(trip_202203)"
   ]
  },
  {
   "cell_type": "code",
   "execution_count": 14,
   "id": "1a3b00e4",
   "metadata": {
    "execution": {
     "iopub.execute_input": "2023-11-30T05:35:39.109146Z",
     "iopub.status.busy": "2023-11-30T05:35:39.106963Z",
     "iopub.status.idle": "2023-11-30T05:35:39.129614Z",
     "shell.execute_reply": "2023-11-30T05:35:39.127412Z"
    },
    "papermill": {
     "duration": 0.046774,
     "end_time": "2023-11-30T05:35:39.132336",
     "exception": false,
     "start_time": "2023-11-30T05:35:39.085562",
     "status": "completed"
    },
    "tags": []
   },
   "outputs": [
    {
     "data": {
      "text/html": [
       "<style>\n",
       ".list-inline {list-style: none; margin:0; padding: 0}\n",
       ".list-inline>li {display: inline-block}\n",
       ".list-inline>li:not(:last-child)::after {content: \"\\00b7\"; padding: 0 .5ex}\n",
       "</style>\n",
       "<ol class=list-inline><li>'ride_id'</li><li>'rideable_type'</li><li>'started_at'</li><li>'ended_at'</li><li>'start_station_name'</li><li>'start_station_id'</li><li>'end_station_name'</li><li>'end_station_id'</li><li>'start_lat'</li><li>'start_lng'</li><li>'end_lat'</li><li>'end_lng'</li><li>'member_casual'</li></ol>\n"
      ],
      "text/latex": [
       "\\begin{enumerate*}\n",
       "\\item 'ride\\_id'\n",
       "\\item 'rideable\\_type'\n",
       "\\item 'started\\_at'\n",
       "\\item 'ended\\_at'\n",
       "\\item 'start\\_station\\_name'\n",
       "\\item 'start\\_station\\_id'\n",
       "\\item 'end\\_station\\_name'\n",
       "\\item 'end\\_station\\_id'\n",
       "\\item 'start\\_lat'\n",
       "\\item 'start\\_lng'\n",
       "\\item 'end\\_lat'\n",
       "\\item 'end\\_lng'\n",
       "\\item 'member\\_casual'\n",
       "\\end{enumerate*}\n"
      ],
      "text/markdown": [
       "1. 'ride_id'\n",
       "2. 'rideable_type'\n",
       "3. 'started_at'\n",
       "4. 'ended_at'\n",
       "5. 'start_station_name'\n",
       "6. 'start_station_id'\n",
       "7. 'end_station_name'\n",
       "8. 'end_station_id'\n",
       "9. 'start_lat'\n",
       "10. 'start_lng'\n",
       "11. 'end_lat'\n",
       "12. 'end_lng'\n",
       "13. 'member_casual'\n",
       "\n",
       "\n"
      ],
      "text/plain": [
       " [1] \"ride_id\"            \"rideable_type\"      \"started_at\"        \n",
       " [4] \"ended_at\"           \"start_station_name\" \"start_station_id\"  \n",
       " [7] \"end_station_name\"   \"end_station_id\"     \"start_lat\"         \n",
       "[10] \"start_lng\"          \"end_lat\"            \"end_lng\"           \n",
       "[13] \"member_casual\"     "
      ]
     },
     "metadata": {},
     "output_type": "display_data"
    }
   ],
   "source": [
    "colnames(trip_202204)"
   ]
  },
  {
   "cell_type": "code",
   "execution_count": 15,
   "id": "a25edb4e",
   "metadata": {
    "execution": {
     "iopub.execute_input": "2023-11-30T05:35:39.175117Z",
     "iopub.status.busy": "2023-11-30T05:35:39.173050Z",
     "iopub.status.idle": "2023-11-30T05:35:39.196463Z",
     "shell.execute_reply": "2023-11-30T05:35:39.194180Z"
    },
    "papermill": {
     "duration": 0.048107,
     "end_time": "2023-11-30T05:35:39.199157",
     "exception": false,
     "start_time": "2023-11-30T05:35:39.151050",
     "status": "completed"
    },
    "tags": []
   },
   "outputs": [
    {
     "data": {
      "text/html": [
       "<style>\n",
       ".list-inline {list-style: none; margin:0; padding: 0}\n",
       ".list-inline>li {display: inline-block}\n",
       ".list-inline>li:not(:last-child)::after {content: \"\\00b7\"; padding: 0 .5ex}\n",
       "</style>\n",
       "<ol class=list-inline><li>'ride_id'</li><li>'rideable_type'</li><li>'started_at'</li><li>'ended_at'</li><li>'start_station_name'</li><li>'start_station_id'</li><li>'end_station_name'</li><li>'end_station_id'</li><li>'start_lat'</li><li>'start_lng'</li><li>'end_lat'</li><li>'end_lng'</li><li>'member_casual'</li></ol>\n"
      ],
      "text/latex": [
       "\\begin{enumerate*}\n",
       "\\item 'ride\\_id'\n",
       "\\item 'rideable\\_type'\n",
       "\\item 'started\\_at'\n",
       "\\item 'ended\\_at'\n",
       "\\item 'start\\_station\\_name'\n",
       "\\item 'start\\_station\\_id'\n",
       "\\item 'end\\_station\\_name'\n",
       "\\item 'end\\_station\\_id'\n",
       "\\item 'start\\_lat'\n",
       "\\item 'start\\_lng'\n",
       "\\item 'end\\_lat'\n",
       "\\item 'end\\_lng'\n",
       "\\item 'member\\_casual'\n",
       "\\end{enumerate*}\n"
      ],
      "text/markdown": [
       "1. 'ride_id'\n",
       "2. 'rideable_type'\n",
       "3. 'started_at'\n",
       "4. 'ended_at'\n",
       "5. 'start_station_name'\n",
       "6. 'start_station_id'\n",
       "7. 'end_station_name'\n",
       "8. 'end_station_id'\n",
       "9. 'start_lat'\n",
       "10. 'start_lng'\n",
       "11. 'end_lat'\n",
       "12. 'end_lng'\n",
       "13. 'member_casual'\n",
       "\n",
       "\n"
      ],
      "text/plain": [
       " [1] \"ride_id\"            \"rideable_type\"      \"started_at\"        \n",
       " [4] \"ended_at\"           \"start_station_name\" \"start_station_id\"  \n",
       " [7] \"end_station_name\"   \"end_station_id\"     \"start_lat\"         \n",
       "[10] \"start_lng\"          \"end_lat\"            \"end_lng\"           \n",
       "[13] \"member_casual\"     "
      ]
     },
     "metadata": {},
     "output_type": "display_data"
    }
   ],
   "source": [
    "colnames(trip_202205)"
   ]
  },
  {
   "cell_type": "code",
   "execution_count": 16,
   "id": "7b70176b",
   "metadata": {
    "execution": {
     "iopub.execute_input": "2023-11-30T05:35:39.242345Z",
     "iopub.status.busy": "2023-11-30T05:35:39.240156Z",
     "iopub.status.idle": "2023-11-30T05:35:39.267991Z",
     "shell.execute_reply": "2023-11-30T05:35:39.265168Z"
    },
    "papermill": {
     "duration": 0.053203,
     "end_time": "2023-11-30T05:35:39.271455",
     "exception": false,
     "start_time": "2023-11-30T05:35:39.218252",
     "status": "completed"
    },
    "tags": []
   },
   "outputs": [
    {
     "data": {
      "text/html": [
       "<style>\n",
       ".list-inline {list-style: none; margin:0; padding: 0}\n",
       ".list-inline>li {display: inline-block}\n",
       ".list-inline>li:not(:last-child)::after {content: \"\\00b7\"; padding: 0 .5ex}\n",
       "</style>\n",
       "<ol class=list-inline><li>'ride_id'</li><li>'rideable_type'</li><li>'started_at'</li><li>'ended_at'</li><li>'start_station_name'</li><li>'start_station_id'</li><li>'end_station_name'</li><li>'end_station_id'</li><li>'start_lat'</li><li>'start_lng'</li><li>'end_lat'</li><li>'end_lng'</li><li>'member_casual'</li></ol>\n"
      ],
      "text/latex": [
       "\\begin{enumerate*}\n",
       "\\item 'ride\\_id'\n",
       "\\item 'rideable\\_type'\n",
       "\\item 'started\\_at'\n",
       "\\item 'ended\\_at'\n",
       "\\item 'start\\_station\\_name'\n",
       "\\item 'start\\_station\\_id'\n",
       "\\item 'end\\_station\\_name'\n",
       "\\item 'end\\_station\\_id'\n",
       "\\item 'start\\_lat'\n",
       "\\item 'start\\_lng'\n",
       "\\item 'end\\_lat'\n",
       "\\item 'end\\_lng'\n",
       "\\item 'member\\_casual'\n",
       "\\end{enumerate*}\n"
      ],
      "text/markdown": [
       "1. 'ride_id'\n",
       "2. 'rideable_type'\n",
       "3. 'started_at'\n",
       "4. 'ended_at'\n",
       "5. 'start_station_name'\n",
       "6. 'start_station_id'\n",
       "7. 'end_station_name'\n",
       "8. 'end_station_id'\n",
       "9. 'start_lat'\n",
       "10. 'start_lng'\n",
       "11. 'end_lat'\n",
       "12. 'end_lng'\n",
       "13. 'member_casual'\n",
       "\n",
       "\n"
      ],
      "text/plain": [
       " [1] \"ride_id\"            \"rideable_type\"      \"started_at\"        \n",
       " [4] \"ended_at\"           \"start_station_name\" \"start_station_id\"  \n",
       " [7] \"end_station_name\"   \"end_station_id\"     \"start_lat\"         \n",
       "[10] \"start_lng\"          \"end_lat\"            \"end_lng\"           \n",
       "[13] \"member_casual\"     "
      ]
     },
     "metadata": {},
     "output_type": "display_data"
    }
   ],
   "source": [
    "colnames(trip_202206)"
   ]
  },
  {
   "cell_type": "code",
   "execution_count": 17,
   "id": "8be17b48",
   "metadata": {
    "execution": {
     "iopub.execute_input": "2023-11-30T05:35:39.360290Z",
     "iopub.status.busy": "2023-11-30T05:35:39.357699Z",
     "iopub.status.idle": "2023-11-30T05:35:39.385856Z",
     "shell.execute_reply": "2023-11-30T05:35:39.383248Z"
    },
    "papermill": {
     "duration": 0.099049,
     "end_time": "2023-11-30T05:35:39.390194",
     "exception": false,
     "start_time": "2023-11-30T05:35:39.291145",
     "status": "completed"
    },
    "tags": []
   },
   "outputs": [
    {
     "data": {
      "text/html": [
       "<style>\n",
       ".list-inline {list-style: none; margin:0; padding: 0}\n",
       ".list-inline>li {display: inline-block}\n",
       ".list-inline>li:not(:last-child)::after {content: \"\\00b7\"; padding: 0 .5ex}\n",
       "</style>\n",
       "<ol class=list-inline><li>'ride_id'</li><li>'rideable_type'</li><li>'started_at'</li><li>'ended_at'</li><li>'start_station_name'</li><li>'start_station_id'</li><li>'end_station_name'</li><li>'end_station_id'</li><li>'start_lat'</li><li>'start_lng'</li><li>'end_lat'</li><li>'end_lng'</li><li>'member_casual'</li></ol>\n"
      ],
      "text/latex": [
       "\\begin{enumerate*}\n",
       "\\item 'ride\\_id'\n",
       "\\item 'rideable\\_type'\n",
       "\\item 'started\\_at'\n",
       "\\item 'ended\\_at'\n",
       "\\item 'start\\_station\\_name'\n",
       "\\item 'start\\_station\\_id'\n",
       "\\item 'end\\_station\\_name'\n",
       "\\item 'end\\_station\\_id'\n",
       "\\item 'start\\_lat'\n",
       "\\item 'start\\_lng'\n",
       "\\item 'end\\_lat'\n",
       "\\item 'end\\_lng'\n",
       "\\item 'member\\_casual'\n",
       "\\end{enumerate*}\n"
      ],
      "text/markdown": [
       "1. 'ride_id'\n",
       "2. 'rideable_type'\n",
       "3. 'started_at'\n",
       "4. 'ended_at'\n",
       "5. 'start_station_name'\n",
       "6. 'start_station_id'\n",
       "7. 'end_station_name'\n",
       "8. 'end_station_id'\n",
       "9. 'start_lat'\n",
       "10. 'start_lng'\n",
       "11. 'end_lat'\n",
       "12. 'end_lng'\n",
       "13. 'member_casual'\n",
       "\n",
       "\n"
      ],
      "text/plain": [
       " [1] \"ride_id\"            \"rideable_type\"      \"started_at\"        \n",
       " [4] \"ended_at\"           \"start_station_name\" \"start_station_id\"  \n",
       " [7] \"end_station_name\"   \"end_station_id\"     \"start_lat\"         \n",
       "[10] \"start_lng\"          \"end_lat\"            \"end_lng\"           \n",
       "[13] \"member_casual\"     "
      ]
     },
     "metadata": {},
     "output_type": "display_data"
    }
   ],
   "source": [
    "colnames(trip_202207)"
   ]
  },
  {
   "cell_type": "code",
   "execution_count": 18,
   "id": "0a1f753e",
   "metadata": {
    "execution": {
     "iopub.execute_input": "2023-11-30T05:35:39.438025Z",
     "iopub.status.busy": "2023-11-30T05:35:39.435361Z",
     "iopub.status.idle": "2023-11-30T05:35:39.464220Z",
     "shell.execute_reply": "2023-11-30T05:35:39.461509Z"
    },
    "papermill": {
     "duration": 0.056249,
     "end_time": "2023-11-30T05:35:39.468094",
     "exception": false,
     "start_time": "2023-11-30T05:35:39.411845",
     "status": "completed"
    },
    "tags": []
   },
   "outputs": [
    {
     "data": {
      "text/html": [
       "<style>\n",
       ".list-inline {list-style: none; margin:0; padding: 0}\n",
       ".list-inline>li {display: inline-block}\n",
       ".list-inline>li:not(:last-child)::after {content: \"\\00b7\"; padding: 0 .5ex}\n",
       "</style>\n",
       "<ol class=list-inline><li>'ride_id'</li><li>'rideable_type'</li><li>'started_at'</li><li>'ended_at'</li><li>'start_station_name'</li><li>'start_station_id'</li><li>'end_station_name'</li><li>'end_station_id'</li><li>'start_lat'</li><li>'start_lng'</li><li>'end_lat'</li><li>'end_lng'</li><li>'member_casual'</li></ol>\n"
      ],
      "text/latex": [
       "\\begin{enumerate*}\n",
       "\\item 'ride\\_id'\n",
       "\\item 'rideable\\_type'\n",
       "\\item 'started\\_at'\n",
       "\\item 'ended\\_at'\n",
       "\\item 'start\\_station\\_name'\n",
       "\\item 'start\\_station\\_id'\n",
       "\\item 'end\\_station\\_name'\n",
       "\\item 'end\\_station\\_id'\n",
       "\\item 'start\\_lat'\n",
       "\\item 'start\\_lng'\n",
       "\\item 'end\\_lat'\n",
       "\\item 'end\\_lng'\n",
       "\\item 'member\\_casual'\n",
       "\\end{enumerate*}\n"
      ],
      "text/markdown": [
       "1. 'ride_id'\n",
       "2. 'rideable_type'\n",
       "3. 'started_at'\n",
       "4. 'ended_at'\n",
       "5. 'start_station_name'\n",
       "6. 'start_station_id'\n",
       "7. 'end_station_name'\n",
       "8. 'end_station_id'\n",
       "9. 'start_lat'\n",
       "10. 'start_lng'\n",
       "11. 'end_lat'\n",
       "12. 'end_lng'\n",
       "13. 'member_casual'\n",
       "\n",
       "\n"
      ],
      "text/plain": [
       " [1] \"ride_id\"            \"rideable_type\"      \"started_at\"        \n",
       " [4] \"ended_at\"           \"start_station_name\" \"start_station_id\"  \n",
       " [7] \"end_station_name\"   \"end_station_id\"     \"start_lat\"         \n",
       "[10] \"start_lng\"          \"end_lat\"            \"end_lng\"           \n",
       "[13] \"member_casual\"     "
      ]
     },
     "metadata": {},
     "output_type": "display_data"
    }
   ],
   "source": [
    "colnames(trip_202208)"
   ]
  },
  {
   "cell_type": "code",
   "execution_count": 19,
   "id": "82a66997",
   "metadata": {
    "execution": {
     "iopub.execute_input": "2023-11-30T05:35:39.515171Z",
     "iopub.status.busy": "2023-11-30T05:35:39.511617Z",
     "iopub.status.idle": "2023-11-30T05:35:39.543148Z",
     "shell.execute_reply": "2023-11-30T05:35:39.539147Z"
    },
    "papermill": {
     "duration": 0.058493,
     "end_time": "2023-11-30T05:35:39.546695",
     "exception": false,
     "start_time": "2023-11-30T05:35:39.488202",
     "status": "completed"
    },
    "tags": []
   },
   "outputs": [
    {
     "data": {
      "text/html": [
       "<style>\n",
       ".list-inline {list-style: none; margin:0; padding: 0}\n",
       ".list-inline>li {display: inline-block}\n",
       ".list-inline>li:not(:last-child)::after {content: \"\\00b7\"; padding: 0 .5ex}\n",
       "</style>\n",
       "<ol class=list-inline><li>'ride_id'</li><li>'rideable_type'</li><li>'started_at'</li><li>'ended_at'</li><li>'start_station_name'</li><li>'start_station_id'</li><li>'end_station_name'</li><li>'end_station_id'</li><li>'start_lat'</li><li>'start_lng'</li><li>'end_lat'</li><li>'end_lng'</li><li>'member_casual'</li></ol>\n"
      ],
      "text/latex": [
       "\\begin{enumerate*}\n",
       "\\item 'ride\\_id'\n",
       "\\item 'rideable\\_type'\n",
       "\\item 'started\\_at'\n",
       "\\item 'ended\\_at'\n",
       "\\item 'start\\_station\\_name'\n",
       "\\item 'start\\_station\\_id'\n",
       "\\item 'end\\_station\\_name'\n",
       "\\item 'end\\_station\\_id'\n",
       "\\item 'start\\_lat'\n",
       "\\item 'start\\_lng'\n",
       "\\item 'end\\_lat'\n",
       "\\item 'end\\_lng'\n",
       "\\item 'member\\_casual'\n",
       "\\end{enumerate*}\n"
      ],
      "text/markdown": [
       "1. 'ride_id'\n",
       "2. 'rideable_type'\n",
       "3. 'started_at'\n",
       "4. 'ended_at'\n",
       "5. 'start_station_name'\n",
       "6. 'start_station_id'\n",
       "7. 'end_station_name'\n",
       "8. 'end_station_id'\n",
       "9. 'start_lat'\n",
       "10. 'start_lng'\n",
       "11. 'end_lat'\n",
       "12. 'end_lng'\n",
       "13. 'member_casual'\n",
       "\n",
       "\n"
      ],
      "text/plain": [
       " [1] \"ride_id\"            \"rideable_type\"      \"started_at\"        \n",
       " [4] \"ended_at\"           \"start_station_name\" \"start_station_id\"  \n",
       " [7] \"end_station_name\"   \"end_station_id\"     \"start_lat\"         \n",
       "[10] \"start_lng\"          \"end_lat\"            \"end_lng\"           \n",
       "[13] \"member_casual\"     "
      ]
     },
     "metadata": {},
     "output_type": "display_data"
    }
   ],
   "source": [
    "colnames(trip_202209)"
   ]
  },
  {
   "cell_type": "code",
   "execution_count": 20,
   "id": "79052afa",
   "metadata": {
    "execution": {
     "iopub.execute_input": "2023-11-30T05:35:39.593580Z",
     "iopub.status.busy": "2023-11-30T05:35:39.590908Z",
     "iopub.status.idle": "2023-11-30T05:35:39.619426Z",
     "shell.execute_reply": "2023-11-30T05:35:39.616615Z"
    },
    "papermill": {
     "duration": 0.0565,
     "end_time": "2023-11-30T05:35:39.623566",
     "exception": false,
     "start_time": "2023-11-30T05:35:39.567066",
     "status": "completed"
    },
    "tags": []
   },
   "outputs": [
    {
     "data": {
      "text/html": [
       "<style>\n",
       ".list-inline {list-style: none; margin:0; padding: 0}\n",
       ".list-inline>li {display: inline-block}\n",
       ".list-inline>li:not(:last-child)::after {content: \"\\00b7\"; padding: 0 .5ex}\n",
       "</style>\n",
       "<ol class=list-inline><li>'ride_id'</li><li>'rideable_type'</li><li>'started_at'</li><li>'ended_at'</li><li>'start_station_name'</li><li>'start_station_id'</li><li>'end_station_name'</li><li>'end_station_id'</li><li>'start_lat'</li><li>'start_lng'</li><li>'end_lat'</li><li>'end_lng'</li><li>'member_casual'</li></ol>\n"
      ],
      "text/latex": [
       "\\begin{enumerate*}\n",
       "\\item 'ride\\_id'\n",
       "\\item 'rideable\\_type'\n",
       "\\item 'started\\_at'\n",
       "\\item 'ended\\_at'\n",
       "\\item 'start\\_station\\_name'\n",
       "\\item 'start\\_station\\_id'\n",
       "\\item 'end\\_station\\_name'\n",
       "\\item 'end\\_station\\_id'\n",
       "\\item 'start\\_lat'\n",
       "\\item 'start\\_lng'\n",
       "\\item 'end\\_lat'\n",
       "\\item 'end\\_lng'\n",
       "\\item 'member\\_casual'\n",
       "\\end{enumerate*}\n"
      ],
      "text/markdown": [
       "1. 'ride_id'\n",
       "2. 'rideable_type'\n",
       "3. 'started_at'\n",
       "4. 'ended_at'\n",
       "5. 'start_station_name'\n",
       "6. 'start_station_id'\n",
       "7. 'end_station_name'\n",
       "8. 'end_station_id'\n",
       "9. 'start_lat'\n",
       "10. 'start_lng'\n",
       "11. 'end_lat'\n",
       "12. 'end_lng'\n",
       "13. 'member_casual'\n",
       "\n",
       "\n"
      ],
      "text/plain": [
       " [1] \"ride_id\"            \"rideable_type\"      \"started_at\"        \n",
       " [4] \"ended_at\"           \"start_station_name\" \"start_station_id\"  \n",
       " [7] \"end_station_name\"   \"end_station_id\"     \"start_lat\"         \n",
       "[10] \"start_lng\"          \"end_lat\"            \"end_lng\"           \n",
       "[13] \"member_casual\"     "
      ]
     },
     "metadata": {},
     "output_type": "display_data"
    }
   ],
   "source": [
    "colnames(trip_202210)"
   ]
  },
  {
   "cell_type": "code",
   "execution_count": 21,
   "id": "71d64796",
   "metadata": {
    "execution": {
     "iopub.execute_input": "2023-11-30T05:35:39.671167Z",
     "iopub.status.busy": "2023-11-30T05:35:39.668560Z",
     "iopub.status.idle": "2023-11-30T05:35:39.696959Z",
     "shell.execute_reply": "2023-11-30T05:35:39.694076Z"
    },
    "papermill": {
     "duration": 0.05572,
     "end_time": "2023-11-30T05:35:39.700279",
     "exception": false,
     "start_time": "2023-11-30T05:35:39.644559",
     "status": "completed"
    },
    "tags": []
   },
   "outputs": [
    {
     "data": {
      "text/html": [
       "<style>\n",
       ".list-inline {list-style: none; margin:0; padding: 0}\n",
       ".list-inline>li {display: inline-block}\n",
       ".list-inline>li:not(:last-child)::after {content: \"\\00b7\"; padding: 0 .5ex}\n",
       "</style>\n",
       "<ol class=list-inline><li>'ride_id'</li><li>'rideable_type'</li><li>'started_at'</li><li>'ended_at'</li><li>'start_station_name'</li><li>'start_station_id'</li><li>'end_station_name'</li><li>'end_station_id'</li><li>'start_lat'</li><li>'start_lng'</li><li>'end_lat'</li><li>'end_lng'</li><li>'member_casual'</li></ol>\n"
      ],
      "text/latex": [
       "\\begin{enumerate*}\n",
       "\\item 'ride\\_id'\n",
       "\\item 'rideable\\_type'\n",
       "\\item 'started\\_at'\n",
       "\\item 'ended\\_at'\n",
       "\\item 'start\\_station\\_name'\n",
       "\\item 'start\\_station\\_id'\n",
       "\\item 'end\\_station\\_name'\n",
       "\\item 'end\\_station\\_id'\n",
       "\\item 'start\\_lat'\n",
       "\\item 'start\\_lng'\n",
       "\\item 'end\\_lat'\n",
       "\\item 'end\\_lng'\n",
       "\\item 'member\\_casual'\n",
       "\\end{enumerate*}\n"
      ],
      "text/markdown": [
       "1. 'ride_id'\n",
       "2. 'rideable_type'\n",
       "3. 'started_at'\n",
       "4. 'ended_at'\n",
       "5. 'start_station_name'\n",
       "6. 'start_station_id'\n",
       "7. 'end_station_name'\n",
       "8. 'end_station_id'\n",
       "9. 'start_lat'\n",
       "10. 'start_lng'\n",
       "11. 'end_lat'\n",
       "12. 'end_lng'\n",
       "13. 'member_casual'\n",
       "\n",
       "\n"
      ],
      "text/plain": [
       " [1] \"ride_id\"            \"rideable_type\"      \"started_at\"        \n",
       " [4] \"ended_at\"           \"start_station_name\" \"start_station_id\"  \n",
       " [7] \"end_station_name\"   \"end_station_id\"     \"start_lat\"         \n",
       "[10] \"start_lng\"          \"end_lat\"            \"end_lng\"           \n",
       "[13] \"member_casual\"     "
      ]
     },
     "metadata": {},
     "output_type": "display_data"
    }
   ],
   "source": [
    "colnames(trip_202211)"
   ]
  },
  {
   "cell_type": "code",
   "execution_count": 22,
   "id": "a9f21de5",
   "metadata": {
    "execution": {
     "iopub.execute_input": "2023-11-30T05:35:39.750511Z",
     "iopub.status.busy": "2023-11-30T05:35:39.747384Z",
     "iopub.status.idle": "2023-11-30T05:35:39.776192Z",
     "shell.execute_reply": "2023-11-30T05:35:39.773437Z"
    },
    "papermill": {
     "duration": 0.058055,
     "end_time": "2023-11-30T05:35:39.779908",
     "exception": false,
     "start_time": "2023-11-30T05:35:39.721853",
     "status": "completed"
    },
    "tags": []
   },
   "outputs": [
    {
     "data": {
      "text/html": [
       "<style>\n",
       ".list-inline {list-style: none; margin:0; padding: 0}\n",
       ".list-inline>li {display: inline-block}\n",
       ".list-inline>li:not(:last-child)::after {content: \"\\00b7\"; padding: 0 .5ex}\n",
       "</style>\n",
       "<ol class=list-inline><li>'ride_id'</li><li>'rideable_type'</li><li>'started_at'</li><li>'ended_at'</li><li>'start_station_name'</li><li>'start_station_id'</li><li>'end_station_name'</li><li>'end_station_id'</li><li>'start_lat'</li><li>'start_lng'</li><li>'end_lat'</li><li>'end_lng'</li><li>'member_casual'</li></ol>\n"
      ],
      "text/latex": [
       "\\begin{enumerate*}\n",
       "\\item 'ride\\_id'\n",
       "\\item 'rideable\\_type'\n",
       "\\item 'started\\_at'\n",
       "\\item 'ended\\_at'\n",
       "\\item 'start\\_station\\_name'\n",
       "\\item 'start\\_station\\_id'\n",
       "\\item 'end\\_station\\_name'\n",
       "\\item 'end\\_station\\_id'\n",
       "\\item 'start\\_lat'\n",
       "\\item 'start\\_lng'\n",
       "\\item 'end\\_lat'\n",
       "\\item 'end\\_lng'\n",
       "\\item 'member\\_casual'\n",
       "\\end{enumerate*}\n"
      ],
      "text/markdown": [
       "1. 'ride_id'\n",
       "2. 'rideable_type'\n",
       "3. 'started_at'\n",
       "4. 'ended_at'\n",
       "5. 'start_station_name'\n",
       "6. 'start_station_id'\n",
       "7. 'end_station_name'\n",
       "8. 'end_station_id'\n",
       "9. 'start_lat'\n",
       "10. 'start_lng'\n",
       "11. 'end_lat'\n",
       "12. 'end_lng'\n",
       "13. 'member_casual'\n",
       "\n",
       "\n"
      ],
      "text/plain": [
       " [1] \"ride_id\"            \"rideable_type\"      \"started_at\"        \n",
       " [4] \"ended_at\"           \"start_station_name\" \"start_station_id\"  \n",
       " [7] \"end_station_name\"   \"end_station_id\"     \"start_lat\"         \n",
       "[10] \"start_lng\"          \"end_lat\"            \"end_lng\"           \n",
       "[13] \"member_casual\"     "
      ]
     },
     "metadata": {},
     "output_type": "display_data"
    }
   ],
   "source": [
    "colnames(trip_202212)"
   ]
  },
  {
   "cell_type": "code",
   "execution_count": 23,
   "id": "44edd76a",
   "metadata": {
    "execution": {
     "iopub.execute_input": "2023-11-30T05:35:39.833398Z",
     "iopub.status.busy": "2023-11-30T05:35:39.830793Z",
     "iopub.status.idle": "2023-11-30T05:35:51.974864Z",
     "shell.execute_reply": "2023-11-30T05:35:51.972508Z"
    },
    "papermill": {
     "duration": 12.177617,
     "end_time": "2023-11-30T05:35:51.979067",
     "exception": false,
     "start_time": "2023-11-30T05:35:39.801450",
     "status": "completed"
    },
    "tags": []
   },
   "outputs": [],
   "source": [
    "##Combine All Data \n",
    "data_trips <- bind_rows(trip_202201,trip_202202,trip_202203,trip_202204,trip_202205,trip_202206,trip_202207,trip_202208,trip_202209,trip_202210,trip_202211,trip_202212)"
   ]
  },
  {
   "cell_type": "code",
   "execution_count": 24,
   "id": "c21a8219",
   "metadata": {
    "execution": {
     "iopub.execute_input": "2023-11-30T05:35:52.028505Z",
     "iopub.status.busy": "2023-11-30T05:35:52.026503Z",
     "iopub.status.idle": "2023-11-30T05:35:52.096961Z",
     "shell.execute_reply": "2023-11-30T05:35:52.094722Z"
    },
    "papermill": {
     "duration": 0.100044,
     "end_time": "2023-11-30T05:35:52.100585",
     "exception": false,
     "start_time": "2023-11-30T05:35:52.000541",
     "status": "completed"
    },
    "tags": []
   },
   "outputs": [],
   "source": [
    "#Remove data was dropped beginning\n",
    "data_trips <- data_trips %>%\n",
    "  select(-c(start_lat, start_lng, end_lat, end_lng))"
   ]
  },
  {
   "cell_type": "code",
   "execution_count": 25,
   "id": "0626da53",
   "metadata": {
    "execution": {
     "iopub.execute_input": "2023-11-30T05:35:52.148593Z",
     "iopub.status.busy": "2023-11-30T05:35:52.146545Z",
     "iopub.status.idle": "2023-11-30T05:35:52.171830Z",
     "shell.execute_reply": "2023-11-30T05:35:52.168923Z"
    },
    "papermill": {
     "duration": 0.053099,
     "end_time": "2023-11-30T05:35:52.175074",
     "exception": false,
     "start_time": "2023-11-30T05:35:52.121975",
     "status": "completed"
    },
    "tags": []
   },
   "outputs": [
    {
     "data": {
      "text/html": [
       "<style>\n",
       ".list-inline {list-style: none; margin:0; padding: 0}\n",
       ".list-inline>li {display: inline-block}\n",
       ".list-inline>li:not(:last-child)::after {content: \"\\00b7\"; padding: 0 .5ex}\n",
       "</style>\n",
       "<ol class=list-inline><li>'ride_id'</li><li>'rideable_type'</li><li>'started_at'</li><li>'ended_at'</li><li>'start_station_name'</li><li>'start_station_id'</li><li>'end_station_name'</li><li>'end_station_id'</li><li>'member_casual'</li></ol>\n"
      ],
      "text/latex": [
       "\\begin{enumerate*}\n",
       "\\item 'ride\\_id'\n",
       "\\item 'rideable\\_type'\n",
       "\\item 'started\\_at'\n",
       "\\item 'ended\\_at'\n",
       "\\item 'start\\_station\\_name'\n",
       "\\item 'start\\_station\\_id'\n",
       "\\item 'end\\_station\\_name'\n",
       "\\item 'end\\_station\\_id'\n",
       "\\item 'member\\_casual'\n",
       "\\end{enumerate*}\n"
      ],
      "text/markdown": [
       "1. 'ride_id'\n",
       "2. 'rideable_type'\n",
       "3. 'started_at'\n",
       "4. 'ended_at'\n",
       "5. 'start_station_name'\n",
       "6. 'start_station_id'\n",
       "7. 'end_station_name'\n",
       "8. 'end_station_id'\n",
       "9. 'member_casual'\n",
       "\n",
       "\n"
      ],
      "text/plain": [
       "[1] \"ride_id\"            \"rideable_type\"      \"started_at\"        \n",
       "[4] \"ended_at\"           \"start_station_name\" \"start_station_id\"  \n",
       "[7] \"end_station_name\"   \"end_station_id\"     \"member_casual\"     "
      ]
     },
     "metadata": {},
     "output_type": "display_data"
    }
   ],
   "source": [
    "#Check new data after the combination\n",
    "#Column name\n",
    "colnames(data_trips) "
   ]
  },
  {
   "cell_type": "code",
   "execution_count": 26,
   "id": "89fa5b7c",
   "metadata": {
    "execution": {
     "iopub.execute_input": "2023-11-30T05:35:52.223183Z",
     "iopub.status.busy": "2023-11-30T05:35:52.221194Z",
     "iopub.status.idle": "2023-11-30T05:35:52.246216Z",
     "shell.execute_reply": "2023-11-30T05:35:52.243431Z"
    },
    "papermill": {
     "duration": 0.053084,
     "end_time": "2023-11-30T05:35:52.249814",
     "exception": false,
     "start_time": "2023-11-30T05:35:52.196730",
     "status": "completed"
    },
    "tags": []
   },
   "outputs": [
    {
     "data": {
      "text/html": [
       "5667717"
      ],
      "text/latex": [
       "5667717"
      ],
      "text/markdown": [
       "5667717"
      ],
      "text/plain": [
       "[1] 5667717"
      ]
     },
     "metadata": {},
     "output_type": "display_data"
    }
   ],
   "source": [
    "#How many rows\n",
    "nrow(data_trips)"
   ]
  },
  {
   "cell_type": "code",
   "execution_count": 27,
   "id": "d35089f2",
   "metadata": {
    "execution": {
     "iopub.execute_input": "2023-11-30T05:35:52.298825Z",
     "iopub.status.busy": "2023-11-30T05:35:52.296555Z",
     "iopub.status.idle": "2023-11-30T05:35:52.322349Z",
     "shell.execute_reply": "2023-11-30T05:35:52.319313Z"
    },
    "papermill": {
     "duration": 0.05435,
     "end_time": "2023-11-30T05:35:52.326112",
     "exception": false,
     "start_time": "2023-11-30T05:35:52.271762",
     "status": "completed"
    },
    "tags": []
   },
   "outputs": [
    {
     "data": {
      "text/html": [
       "<style>\n",
       ".list-inline {list-style: none; margin:0; padding: 0}\n",
       ".list-inline>li {display: inline-block}\n",
       ".list-inline>li:not(:last-child)::after {content: \"\\00b7\"; padding: 0 .5ex}\n",
       "</style>\n",
       "<ol class=list-inline><li>5667717</li><li>9</li></ol>\n"
      ],
      "text/latex": [
       "\\begin{enumerate*}\n",
       "\\item 5667717\n",
       "\\item 9\n",
       "\\end{enumerate*}\n"
      ],
      "text/markdown": [
       "1. 5667717\n",
       "2. 9\n",
       "\n",
       "\n"
      ],
      "text/plain": [
       "[1] 5667717       9"
      ]
     },
     "metadata": {},
     "output_type": "display_data"
    }
   ],
   "source": [
    "#Dimensions\n",
    "dim(data_trips)"
   ]
  },
  {
   "cell_type": "code",
   "execution_count": 28,
   "id": "2d2418dd",
   "metadata": {
    "execution": {
     "iopub.execute_input": "2023-11-30T05:35:52.376979Z",
     "iopub.status.busy": "2023-11-30T05:35:52.374653Z",
     "iopub.status.idle": "2023-11-30T05:35:52.423316Z",
     "shell.execute_reply": "2023-11-30T05:35:52.420104Z"
    },
    "papermill": {
     "duration": 0.077876,
     "end_time": "2023-11-30T05:35:52.426881",
     "exception": false,
     "start_time": "2023-11-30T05:35:52.349005",
     "status": "completed"
    },
    "tags": []
   },
   "outputs": [
    {
     "data": {
      "text/html": [
       "<table class=\"dataframe\">\n",
       "<caption>A data.frame: 6 × 9</caption>\n",
       "<thead>\n",
       "\t<tr><th></th><th scope=col>ride_id</th><th scope=col>rideable_type</th><th scope=col>started_at</th><th scope=col>ended_at</th><th scope=col>start_station_name</th><th scope=col>start_station_id</th><th scope=col>end_station_name</th><th scope=col>end_station_id</th><th scope=col>member_casual</th></tr>\n",
       "\t<tr><th></th><th scope=col>&lt;chr&gt;</th><th scope=col>&lt;chr&gt;</th><th scope=col>&lt;chr&gt;</th><th scope=col>&lt;chr&gt;</th><th scope=col>&lt;chr&gt;</th><th scope=col>&lt;chr&gt;</th><th scope=col>&lt;chr&gt;</th><th scope=col>&lt;chr&gt;</th><th scope=col>&lt;chr&gt;</th></tr>\n",
       "</thead>\n",
       "<tbody>\n",
       "\t<tr><th scope=row>1</th><td>C2F7DD78E82EC875</td><td>electric_bike</td><td>2022-01-13 11:59:47</td><td>2022-01-13 12:02:44</td><td><span style=white-space:pre-wrap>Glenwood Ave &amp; Touhy Ave     </span></td><td><span style=white-space:pre-wrap>525         </span></td><td><span style=white-space:pre-wrap>Clark St &amp; Touhy Ave         </span></td><td><span style=white-space:pre-wrap>RP-007      </span></td><td>casual</td></tr>\n",
       "\t<tr><th scope=row>2</th><td>A6CF8980A652D272</td><td>electric_bike</td><td>2022-01-10 08:41:56</td><td>2022-01-10 08:46:17</td><td><span style=white-space:pre-wrap>Glenwood Ave &amp; Touhy Ave     </span></td><td><span style=white-space:pre-wrap>525         </span></td><td><span style=white-space:pre-wrap>Clark St &amp; Touhy Ave         </span></td><td><span style=white-space:pre-wrap>RP-007      </span></td><td>casual</td></tr>\n",
       "\t<tr><th scope=row>3</th><td>BD0F91DFF741C66D</td><td>classic_bike </td><td>2022-01-25 04:53:40</td><td>2022-01-25 04:58:01</td><td>Sheffield Ave &amp; Fullerton Ave</td><td>TA1306000016</td><td>Greenview Ave &amp; Fullerton Ave</td><td>TA1307000001</td><td>member</td></tr>\n",
       "\t<tr><th scope=row>4</th><td>CBB80ED419105406</td><td>classic_bike </td><td>2022-01-04 00:18:04</td><td>2022-01-04 00:33:00</td><td><span style=white-space:pre-wrap>Clark St &amp; Bryn Mawr Ave     </span></td><td>KA1504000151</td><td><span style=white-space:pre-wrap>Paulina St &amp; Montrose Ave    </span></td><td>TA1309000021</td><td>casual</td></tr>\n",
       "\t<tr><th scope=row>5</th><td>DDC963BFDDA51EEA</td><td>classic_bike </td><td>2022-01-20 01:31:10</td><td>2022-01-20 01:37:12</td><td><span style=white-space:pre-wrap>Michigan Ave &amp; Jackson Blvd  </span></td><td>TA1309000002</td><td><span style=white-space:pre-wrap>State St &amp; Randolph St       </span></td><td>TA1305000029</td><td>member</td></tr>\n",
       "\t<tr><th scope=row>6</th><td>A39C6F6CC0586C0B</td><td>classic_bike </td><td>2022-01-11 18:48:09</td><td>2022-01-11 18:51:31</td><td><span style=white-space:pre-wrap>Wood St &amp; Chicago Ave        </span></td><td><span style=white-space:pre-wrap>637         </span></td><td><span style=white-space:pre-wrap>Honore St &amp; Division St      </span></td><td>TA1305000034</td><td>member</td></tr>\n",
       "</tbody>\n",
       "</table>\n"
      ],
      "text/latex": [
       "A data.frame: 6 × 9\n",
       "\\begin{tabular}{r|lllllllll}\n",
       "  & ride\\_id & rideable\\_type & started\\_at & ended\\_at & start\\_station\\_name & start\\_station\\_id & end\\_station\\_name & end\\_station\\_id & member\\_casual\\\\\n",
       "  & <chr> & <chr> & <chr> & <chr> & <chr> & <chr> & <chr> & <chr> & <chr>\\\\\n",
       "\\hline\n",
       "\t1 & C2F7DD78E82EC875 & electric\\_bike & 2022-01-13 11:59:47 & 2022-01-13 12:02:44 & Glenwood Ave \\& Touhy Ave      & 525          & Clark St \\& Touhy Ave          & RP-007       & casual\\\\\n",
       "\t2 & A6CF8980A652D272 & electric\\_bike & 2022-01-10 08:41:56 & 2022-01-10 08:46:17 & Glenwood Ave \\& Touhy Ave      & 525          & Clark St \\& Touhy Ave          & RP-007       & casual\\\\\n",
       "\t3 & BD0F91DFF741C66D & classic\\_bike  & 2022-01-25 04:53:40 & 2022-01-25 04:58:01 & Sheffield Ave \\& Fullerton Ave & TA1306000016 & Greenview Ave \\& Fullerton Ave & TA1307000001 & member\\\\\n",
       "\t4 & CBB80ED419105406 & classic\\_bike  & 2022-01-04 00:18:04 & 2022-01-04 00:33:00 & Clark St \\& Bryn Mawr Ave      & KA1504000151 & Paulina St \\& Montrose Ave     & TA1309000021 & casual\\\\\n",
       "\t5 & DDC963BFDDA51EEA & classic\\_bike  & 2022-01-20 01:31:10 & 2022-01-20 01:37:12 & Michigan Ave \\& Jackson Blvd   & TA1309000002 & State St \\& Randolph St        & TA1305000029 & member\\\\\n",
       "\t6 & A39C6F6CC0586C0B & classic\\_bike  & 2022-01-11 18:48:09 & 2022-01-11 18:51:31 & Wood St \\& Chicago Ave         & 637          & Honore St \\& Division St       & TA1305000034 & member\\\\\n",
       "\\end{tabular}\n"
      ],
      "text/markdown": [
       "\n",
       "A data.frame: 6 × 9\n",
       "\n",
       "| <!--/--> | ride_id &lt;chr&gt; | rideable_type &lt;chr&gt; | started_at &lt;chr&gt; | ended_at &lt;chr&gt; | start_station_name &lt;chr&gt; | start_station_id &lt;chr&gt; | end_station_name &lt;chr&gt; | end_station_id &lt;chr&gt; | member_casual &lt;chr&gt; |\n",
       "|---|---|---|---|---|---|---|---|---|---|\n",
       "| 1 | C2F7DD78E82EC875 | electric_bike | 2022-01-13 11:59:47 | 2022-01-13 12:02:44 | Glenwood Ave &amp; Touhy Ave      | 525          | Clark St &amp; Touhy Ave          | RP-007       | casual |\n",
       "| 2 | A6CF8980A652D272 | electric_bike | 2022-01-10 08:41:56 | 2022-01-10 08:46:17 | Glenwood Ave &amp; Touhy Ave      | 525          | Clark St &amp; Touhy Ave          | RP-007       | casual |\n",
       "| 3 | BD0F91DFF741C66D | classic_bike  | 2022-01-25 04:53:40 | 2022-01-25 04:58:01 | Sheffield Ave &amp; Fullerton Ave | TA1306000016 | Greenview Ave &amp; Fullerton Ave | TA1307000001 | member |\n",
       "| 4 | CBB80ED419105406 | classic_bike  | 2022-01-04 00:18:04 | 2022-01-04 00:33:00 | Clark St &amp; Bryn Mawr Ave      | KA1504000151 | Paulina St &amp; Montrose Ave     | TA1309000021 | casual |\n",
       "| 5 | DDC963BFDDA51EEA | classic_bike  | 2022-01-20 01:31:10 | 2022-01-20 01:37:12 | Michigan Ave &amp; Jackson Blvd   | TA1309000002 | State St &amp; Randolph St        | TA1305000029 | member |\n",
       "| 6 | A39C6F6CC0586C0B | classic_bike  | 2022-01-11 18:48:09 | 2022-01-11 18:51:31 | Wood St &amp; Chicago Ave         | 637          | Honore St &amp; Division St       | TA1305000034 | member |\n",
       "\n"
      ],
      "text/plain": [
       "  ride_id          rideable_type started_at          ended_at           \n",
       "1 C2F7DD78E82EC875 electric_bike 2022-01-13 11:59:47 2022-01-13 12:02:44\n",
       "2 A6CF8980A652D272 electric_bike 2022-01-10 08:41:56 2022-01-10 08:46:17\n",
       "3 BD0F91DFF741C66D classic_bike  2022-01-25 04:53:40 2022-01-25 04:58:01\n",
       "4 CBB80ED419105406 classic_bike  2022-01-04 00:18:04 2022-01-04 00:33:00\n",
       "5 DDC963BFDDA51EEA classic_bike  2022-01-20 01:31:10 2022-01-20 01:37:12\n",
       "6 A39C6F6CC0586C0B classic_bike  2022-01-11 18:48:09 2022-01-11 18:51:31\n",
       "  start_station_name            start_station_id end_station_name             \n",
       "1 Glenwood Ave & Touhy Ave      525              Clark St & Touhy Ave         \n",
       "2 Glenwood Ave & Touhy Ave      525              Clark St & Touhy Ave         \n",
       "3 Sheffield Ave & Fullerton Ave TA1306000016     Greenview Ave & Fullerton Ave\n",
       "4 Clark St & Bryn Mawr Ave      KA1504000151     Paulina St & Montrose Ave    \n",
       "5 Michigan Ave & Jackson Blvd   TA1309000002     State St & Randolph St       \n",
       "6 Wood St & Chicago Ave         637              Honore St & Division St      \n",
       "  end_station_id member_casual\n",
       "1 RP-007         casual       \n",
       "2 RP-007         casual       \n",
       "3 TA1307000001   member       \n",
       "4 TA1309000021   casual       \n",
       "5 TA1305000029   member       \n",
       "6 TA1305000034   member       "
      ]
     },
     "metadata": {},
     "output_type": "display_data"
    }
   ],
   "source": [
    "#First 6 rows \n",
    "head(data_trips)"
   ]
  },
  {
   "cell_type": "code",
   "execution_count": 29,
   "id": "8e96551b",
   "metadata": {
    "execution": {
     "iopub.execute_input": "2023-11-30T05:35:52.478426Z",
     "iopub.status.busy": "2023-11-30T05:35:52.476001Z",
     "iopub.status.idle": "2023-11-30T05:35:52.519441Z",
     "shell.execute_reply": "2023-11-30T05:35:52.516341Z"
    },
    "papermill": {
     "duration": 0.073028,
     "end_time": "2023-11-30T05:35:52.522919",
     "exception": false,
     "start_time": "2023-11-30T05:35:52.449891",
     "status": "completed"
    },
    "tags": []
   },
   "outputs": [
    {
     "data": {
      "text/html": [
       "<table class=\"dataframe\">\n",
       "<caption>A data.frame: 6 × 9</caption>\n",
       "<thead>\n",
       "\t<tr><th></th><th scope=col>ride_id</th><th scope=col>rideable_type</th><th scope=col>started_at</th><th scope=col>ended_at</th><th scope=col>start_station_name</th><th scope=col>start_station_id</th><th scope=col>end_station_name</th><th scope=col>end_station_id</th><th scope=col>member_casual</th></tr>\n",
       "\t<tr><th></th><th scope=col>&lt;chr&gt;</th><th scope=col>&lt;chr&gt;</th><th scope=col>&lt;chr&gt;</th><th scope=col>&lt;chr&gt;</th><th scope=col>&lt;chr&gt;</th><th scope=col>&lt;chr&gt;</th><th scope=col>&lt;chr&gt;</th><th scope=col>&lt;chr&gt;</th><th scope=col>&lt;chr&gt;</th></tr>\n",
       "</thead>\n",
       "<tbody>\n",
       "\t<tr><th scope=row>5667712</th><td>7BDEDE9860418B53</td><td>classic_bike </td><td>2022-12-07 06:52:45</td><td>2022-12-07 06:56:36</td><td>Sangamon St &amp; Washington Blvd</td><td><span style=white-space:pre-wrap>13409       </span></td><td>Peoria St &amp; Jackson Blvd</td><td><span style=white-space:pre-wrap>13158       </span></td><td>member</td></tr>\n",
       "\t<tr><th scope=row>5667713</th><td>43ABEE85B6E15DCA</td><td>classic_bike </td><td>2022-12-05 06:51:04</td><td>2022-12-05 06:54:48</td><td>Sangamon St &amp; Washington Blvd</td><td><span style=white-space:pre-wrap>13409       </span></td><td>Peoria St &amp; Jackson Blvd</td><td><span style=white-space:pre-wrap>13158       </span></td><td>member</td></tr>\n",
       "\t<tr><th scope=row>5667714</th><td>F041C89A3D1F0270</td><td>electric_bike</td><td>2022-12-14 17:06:28</td><td>2022-12-14 17:19:27</td><td><span style=white-space:pre-wrap>Bernard St &amp; Elston Ave      </span></td><td><span style=white-space:pre-wrap>18016       </span></td><td><span style=white-space:pre-wrap>Seeley Ave &amp; Roscoe St  </span></td><td><span style=white-space:pre-wrap>13144       </span></td><td>member</td></tr>\n",
       "\t<tr><th scope=row>5667715</th><td>A2BECB88430BE156</td><td>classic_bike </td><td>2022-12-08 16:27:47</td><td>2022-12-08 16:32:20</td><td><span style=white-space:pre-wrap>Wacker Dr &amp; Washington St    </span></td><td>KA1503000072</td><td><span style=white-space:pre-wrap>Green St &amp; Madison St   </span></td><td>TA1307000120</td><td>member</td></tr>\n",
       "\t<tr><th scope=row>5667716</th><td>37B392960E566F58</td><td>classic_bike </td><td>2022-12-28 09:37:38</td><td>2022-12-28 09:41:34</td><td>Sangamon St &amp; Washington Blvd</td><td><span style=white-space:pre-wrap>13409       </span></td><td>Peoria St &amp; Jackson Blvd</td><td><span style=white-space:pre-wrap>13158       </span></td><td>member</td></tr>\n",
       "\t<tr><th scope=row>5667717</th><td>2DD1587210BA45AE</td><td>classic_bike </td><td>2022-12-09 00:27:25</td><td>2022-12-09 00:35:28</td><td>Southport Ave &amp; Waveland Ave </td><td><span style=white-space:pre-wrap>13235       </span></td><td><span style=white-space:pre-wrap>Seeley Ave &amp; Roscoe St  </span></td><td><span style=white-space:pre-wrap>13144       </span></td><td>casual</td></tr>\n",
       "</tbody>\n",
       "</table>\n"
      ],
      "text/latex": [
       "A data.frame: 6 × 9\n",
       "\\begin{tabular}{r|lllllllll}\n",
       "  & ride\\_id & rideable\\_type & started\\_at & ended\\_at & start\\_station\\_name & start\\_station\\_id & end\\_station\\_name & end\\_station\\_id & member\\_casual\\\\\n",
       "  & <chr> & <chr> & <chr> & <chr> & <chr> & <chr> & <chr> & <chr> & <chr>\\\\\n",
       "\\hline\n",
       "\t5667712 & 7BDEDE9860418B53 & classic\\_bike  & 2022-12-07 06:52:45 & 2022-12-07 06:56:36 & Sangamon St \\& Washington Blvd & 13409        & Peoria St \\& Jackson Blvd & 13158        & member\\\\\n",
       "\t5667713 & 43ABEE85B6E15DCA & classic\\_bike  & 2022-12-05 06:51:04 & 2022-12-05 06:54:48 & Sangamon St \\& Washington Blvd & 13409        & Peoria St \\& Jackson Blvd & 13158        & member\\\\\n",
       "\t5667714 & F041C89A3D1F0270 & electric\\_bike & 2022-12-14 17:06:28 & 2022-12-14 17:19:27 & Bernard St \\& Elston Ave       & 18016        & Seeley Ave \\& Roscoe St   & 13144        & member\\\\\n",
       "\t5667715 & A2BECB88430BE156 & classic\\_bike  & 2022-12-08 16:27:47 & 2022-12-08 16:32:20 & Wacker Dr \\& Washington St     & KA1503000072 & Green St \\& Madison St    & TA1307000120 & member\\\\\n",
       "\t5667716 & 37B392960E566F58 & classic\\_bike  & 2022-12-28 09:37:38 & 2022-12-28 09:41:34 & Sangamon St \\& Washington Blvd & 13409        & Peoria St \\& Jackson Blvd & 13158        & member\\\\\n",
       "\t5667717 & 2DD1587210BA45AE & classic\\_bike  & 2022-12-09 00:27:25 & 2022-12-09 00:35:28 & Southport Ave \\& Waveland Ave  & 13235        & Seeley Ave \\& Roscoe St   & 13144        & casual\\\\\n",
       "\\end{tabular}\n"
      ],
      "text/markdown": [
       "\n",
       "A data.frame: 6 × 9\n",
       "\n",
       "| <!--/--> | ride_id &lt;chr&gt; | rideable_type &lt;chr&gt; | started_at &lt;chr&gt; | ended_at &lt;chr&gt; | start_station_name &lt;chr&gt; | start_station_id &lt;chr&gt; | end_station_name &lt;chr&gt; | end_station_id &lt;chr&gt; | member_casual &lt;chr&gt; |\n",
       "|---|---|---|---|---|---|---|---|---|---|\n",
       "| 5667712 | 7BDEDE9860418B53 | classic_bike  | 2022-12-07 06:52:45 | 2022-12-07 06:56:36 | Sangamon St &amp; Washington Blvd | 13409        | Peoria St &amp; Jackson Blvd | 13158        | member |\n",
       "| 5667713 | 43ABEE85B6E15DCA | classic_bike  | 2022-12-05 06:51:04 | 2022-12-05 06:54:48 | Sangamon St &amp; Washington Blvd | 13409        | Peoria St &amp; Jackson Blvd | 13158        | member |\n",
       "| 5667714 | F041C89A3D1F0270 | electric_bike | 2022-12-14 17:06:28 | 2022-12-14 17:19:27 | Bernard St &amp; Elston Ave       | 18016        | Seeley Ave &amp; Roscoe St   | 13144        | member |\n",
       "| 5667715 | A2BECB88430BE156 | classic_bike  | 2022-12-08 16:27:47 | 2022-12-08 16:32:20 | Wacker Dr &amp; Washington St     | KA1503000072 | Green St &amp; Madison St    | TA1307000120 | member |\n",
       "| 5667716 | 37B392960E566F58 | classic_bike  | 2022-12-28 09:37:38 | 2022-12-28 09:41:34 | Sangamon St &amp; Washington Blvd | 13409        | Peoria St &amp; Jackson Blvd | 13158        | member |\n",
       "| 5667717 | 2DD1587210BA45AE | classic_bike  | 2022-12-09 00:27:25 | 2022-12-09 00:35:28 | Southport Ave &amp; Waveland Ave  | 13235        | Seeley Ave &amp; Roscoe St   | 13144        | casual |\n",
       "\n"
      ],
      "text/plain": [
       "        ride_id          rideable_type started_at          ended_at           \n",
       "5667712 7BDEDE9860418B53 classic_bike  2022-12-07 06:52:45 2022-12-07 06:56:36\n",
       "5667713 43ABEE85B6E15DCA classic_bike  2022-12-05 06:51:04 2022-12-05 06:54:48\n",
       "5667714 F041C89A3D1F0270 electric_bike 2022-12-14 17:06:28 2022-12-14 17:19:27\n",
       "5667715 A2BECB88430BE156 classic_bike  2022-12-08 16:27:47 2022-12-08 16:32:20\n",
       "5667716 37B392960E566F58 classic_bike  2022-12-28 09:37:38 2022-12-28 09:41:34\n",
       "5667717 2DD1587210BA45AE classic_bike  2022-12-09 00:27:25 2022-12-09 00:35:28\n",
       "        start_station_name            start_station_id end_station_name        \n",
       "5667712 Sangamon St & Washington Blvd 13409            Peoria St & Jackson Blvd\n",
       "5667713 Sangamon St & Washington Blvd 13409            Peoria St & Jackson Blvd\n",
       "5667714 Bernard St & Elston Ave       18016            Seeley Ave & Roscoe St  \n",
       "5667715 Wacker Dr & Washington St     KA1503000072     Green St & Madison St   \n",
       "5667716 Sangamon St & Washington Blvd 13409            Peoria St & Jackson Blvd\n",
       "5667717 Southport Ave & Waveland Ave  13235            Seeley Ave & Roscoe St  \n",
       "        end_station_id member_casual\n",
       "5667712 13158          member       \n",
       "5667713 13158          member       \n",
       "5667714 13144          member       \n",
       "5667715 TA1307000120   member       \n",
       "5667716 13158          member       \n",
       "5667717 13144          casual       "
      ]
     },
     "metadata": {},
     "output_type": "display_data"
    }
   ],
   "source": [
    "#Last 6 rows\n",
    "tail(data_trips)"
   ]
  },
  {
   "cell_type": "code",
   "execution_count": 30,
   "id": "cf1b12cf",
   "metadata": {
    "execution": {
     "iopub.execute_input": "2023-11-30T05:35:52.573968Z",
     "iopub.status.busy": "2023-11-30T05:35:52.571880Z",
     "iopub.status.idle": "2023-11-30T05:35:52.617211Z",
     "shell.execute_reply": "2023-11-30T05:35:52.614594Z"
    },
    "papermill": {
     "duration": 0.074701,
     "end_time": "2023-11-30T05:35:52.620650",
     "exception": false,
     "start_time": "2023-11-30T05:35:52.545949",
     "status": "completed"
    },
    "tags": []
   },
   "outputs": [
    {
     "name": "stdout",
     "output_type": "stream",
     "text": [
      "'data.frame':\t5667717 obs. of  9 variables:\n",
      " $ ride_id           : chr  \"C2F7DD78E82EC875\" \"A6CF8980A652D272\" \"BD0F91DFF741C66D\" \"CBB80ED419105406\" ...\n",
      " $ rideable_type     : chr  \"electric_bike\" \"electric_bike\" \"classic_bike\" \"classic_bike\" ...\n",
      " $ started_at        : chr  \"2022-01-13 11:59:47\" \"2022-01-10 08:41:56\" \"2022-01-25 04:53:40\" \"2022-01-04 00:18:04\" ...\n",
      " $ ended_at          : chr  \"2022-01-13 12:02:44\" \"2022-01-10 08:46:17\" \"2022-01-25 04:58:01\" \"2022-01-04 00:33:00\" ...\n",
      " $ start_station_name: chr  \"Glenwood Ave & Touhy Ave\" \"Glenwood Ave & Touhy Ave\" \"Sheffield Ave & Fullerton Ave\" \"Clark St & Bryn Mawr Ave\" ...\n",
      " $ start_station_id  : chr  \"525\" \"525\" \"TA1306000016\" \"KA1504000151\" ...\n",
      " $ end_station_name  : chr  \"Clark St & Touhy Ave\" \"Clark St & Touhy Ave\" \"Greenview Ave & Fullerton Ave\" \"Paulina St & Montrose Ave\" ...\n",
      " $ end_station_id    : chr  \"RP-007\" \"RP-007\" \"TA1307000001\" \"TA1309000021\" ...\n",
      " $ member_casual     : chr  \"casual\" \"casual\" \"member\" \"casual\" ...\n"
     ]
    }
   ],
   "source": [
    "#List of columns and data types (numeric, character, etc)\n",
    "str(data_trips)"
   ]
  },
  {
   "cell_type": "code",
   "execution_count": 31,
   "id": "e53de73c",
   "metadata": {
    "execution": {
     "iopub.execute_input": "2023-11-30T05:35:52.671834Z",
     "iopub.status.busy": "2023-11-30T05:35:52.669717Z",
     "iopub.status.idle": "2023-11-30T05:35:52.697826Z",
     "shell.execute_reply": "2023-11-30T05:35:52.695103Z"
    },
    "papermill": {
     "duration": 0.057738,
     "end_time": "2023-11-30T05:35:52.701250",
     "exception": false,
     "start_time": "2023-11-30T05:35:52.643512",
     "status": "completed"
    },
    "tags": []
   },
   "outputs": [
    {
     "data": {
      "text/plain": [
       "   ride_id          rideable_type       started_at          ended_at        \n",
       " Length:5667717     Length:5667717     Length:5667717     Length:5667717    \n",
       " Class :character   Class :character   Class :character   Class :character  \n",
       " Mode  :character   Mode  :character   Mode  :character   Mode  :character  \n",
       " start_station_name start_station_id   end_station_name   end_station_id    \n",
       " Length:5667717     Length:5667717     Length:5667717     Length:5667717    \n",
       " Class :character   Class :character   Class :character   Class :character  \n",
       " Mode  :character   Mode  :character   Mode  :character   Mode  :character  \n",
       " member_casual     \n",
       " Length:5667717    \n",
       " Class :character  \n",
       " Mode  :character  "
      ]
     },
     "metadata": {},
     "output_type": "display_data"
    }
   ],
   "source": [
    "#Statistical summary\n",
    "summary(data_trips)"
   ]
  },
  {
   "cell_type": "code",
   "execution_count": 32,
   "id": "a757480b",
   "metadata": {
    "execution": {
     "iopub.execute_input": "2023-11-30T05:35:52.752994Z",
     "iopub.status.busy": "2023-11-30T05:35:52.750859Z",
     "iopub.status.idle": "2023-11-30T05:36:08.089695Z",
     "shell.execute_reply": "2023-11-30T05:36:08.087296Z"
    },
    "papermill": {
     "duration": 15.36946,
     "end_time": "2023-11-30T05:36:08.094063",
     "exception": false,
     "start_time": "2023-11-30T05:35:52.724603",
     "status": "completed"
    },
    "tags": []
   },
   "outputs": [],
   "source": [
    "#Remove data where started_at is greater than ended_at\n",
    "data_trips <- data_trips %>%\n",
    "  filter(started_at < ended_at)"
   ]
  },
  {
   "cell_type": "code",
   "execution_count": 33,
   "id": "bc7f6891",
   "metadata": {
    "execution": {
     "iopub.execute_input": "2023-11-30T05:36:08.145117Z",
     "iopub.status.busy": "2023-11-30T05:36:08.143298Z",
     "iopub.status.idle": "2023-11-30T05:36:21.578035Z",
     "shell.execute_reply": "2023-11-30T05:36:21.575729Z"
    },
    "papermill": {
     "duration": 13.463824,
     "end_time": "2023-11-30T05:36:21.581348",
     "exception": false,
     "start_time": "2023-11-30T05:36:08.117524",
     "status": "completed"
    },
    "tags": []
   },
   "outputs": [],
   "source": [
    "#Remove duplicates\n",
    "data_trips <- distinct(data_trips)"
   ]
  },
  {
   "cell_type": "code",
   "execution_count": 34,
   "id": "f68f3ce1",
   "metadata": {
    "execution": {
     "iopub.execute_input": "2023-11-30T05:36:21.633233Z",
     "iopub.status.busy": "2023-11-30T05:36:21.631176Z",
     "iopub.status.idle": "2023-11-30T05:36:48.278914Z",
     "shell.execute_reply": "2023-11-30T05:36:48.276463Z"
    },
    "papermill": {
     "duration": 26.677719,
     "end_time": "2023-11-30T05:36:48.282362",
     "exception": false,
     "start_time": "2023-11-30T05:36:21.604643",
     "status": "completed"
    },
    "tags": []
   },
   "outputs": [],
   "source": [
    "#Separate date in date, day, month, year for better analysis\n",
    "data_trips$date <- as.Date(data_trips$started_at) #The default format is yyyy-mm-dd\n",
    "data_trips$month <- format(as.Date(data_trips$date), \"%m\")\n",
    "data_trips$day <- format(as.Date(data_trips$date), \"%d\")\n",
    "data_trips$year <- format(as.Date(data_trips$date), \"%Y\")\n",
    "data_trips$day_of_week <- format(as.Date(data_trips$date), \"%A\")"
   ]
  },
  {
   "cell_type": "code",
   "execution_count": 35,
   "id": "d4b44cee",
   "metadata": {
    "execution": {
     "iopub.execute_input": "2023-11-30T05:36:48.333601Z",
     "iopub.status.busy": "2023-11-30T05:36:48.331488Z",
     "iopub.status.idle": "2023-11-30T05:37:31.299507Z",
     "shell.execute_reply": "2023-11-30T05:37:31.297147Z"
    },
    "papermill": {
     "duration": 42.99825,
     "end_time": "2023-11-30T05:37:31.303741",
     "exception": false,
     "start_time": "2023-11-30T05:36:48.305491",
     "status": "completed"
    },
    "tags": []
   },
   "outputs": [],
   "source": [
    "#Add ride length column\n",
    "data_trips$ride_length <- difftime(data_trips$ended_at, data_trips$started_at)"
   ]
  },
  {
   "cell_type": "code",
   "execution_count": 36,
   "id": "4942e494",
   "metadata": {
    "execution": {
     "iopub.execute_input": "2023-11-30T05:37:31.356447Z",
     "iopub.status.busy": "2023-11-30T05:37:31.354470Z",
     "iopub.status.idle": "2023-11-30T05:37:31.407669Z",
     "shell.execute_reply": "2023-11-30T05:37:31.404627Z"
    },
    "papermill": {
     "duration": 0.082541,
     "end_time": "2023-11-30T05:37:31.411162",
     "exception": false,
     "start_time": "2023-11-30T05:37:31.328621",
     "status": "completed"
    },
    "tags": []
   },
   "outputs": [
    {
     "name": "stdout",
     "output_type": "stream",
     "text": [
      "'data.frame':\t5667186 obs. of  15 variables:\n",
      " $ ride_id           : chr  \"C2F7DD78E82EC875\" \"A6CF8980A652D272\" \"BD0F91DFF741C66D\" \"CBB80ED419105406\" ...\n",
      " $ rideable_type     : chr  \"electric_bike\" \"electric_bike\" \"classic_bike\" \"classic_bike\" ...\n",
      " $ started_at        : chr  \"2022-01-13 11:59:47\" \"2022-01-10 08:41:56\" \"2022-01-25 04:53:40\" \"2022-01-04 00:18:04\" ...\n",
      " $ ended_at          : chr  \"2022-01-13 12:02:44\" \"2022-01-10 08:46:17\" \"2022-01-25 04:58:01\" \"2022-01-04 00:33:00\" ...\n",
      " $ start_station_name: chr  \"Glenwood Ave & Touhy Ave\" \"Glenwood Ave & Touhy Ave\" \"Sheffield Ave & Fullerton Ave\" \"Clark St & Bryn Mawr Ave\" ...\n",
      " $ start_station_id  : chr  \"525\" \"525\" \"TA1306000016\" \"KA1504000151\" ...\n",
      " $ end_station_name  : chr  \"Clark St & Touhy Ave\" \"Clark St & Touhy Ave\" \"Greenview Ave & Fullerton Ave\" \"Paulina St & Montrose Ave\" ...\n",
      " $ end_station_id    : chr  \"RP-007\" \"RP-007\" \"TA1307000001\" \"TA1309000021\" ...\n",
      " $ member_casual     : chr  \"casual\" \"casual\" \"member\" \"casual\" ...\n",
      " $ date              : Date, format: \"2022-01-13\" \"2022-01-10\" ...\n",
      " $ month             : chr  \"01\" \"01\" \"01\" \"01\" ...\n",
      " $ day               : chr  \"13\" \"10\" \"25\" \"04\" ...\n",
      " $ year              : chr  \"2022\" \"2022\" \"2022\" \"2022\" ...\n",
      " $ day_of_week       : chr  \"Thursday\" \"Monday\" \"Tuesday\" \"Tuesday\" ...\n",
      " $ ride_length       : 'difftime' num  177 261 261 896 ...\n",
      "  ..- attr(*, \"units\")= chr \"secs\"\n"
     ]
    }
   ],
   "source": [
    "#Inspect the structure of the columns\n",
    "str(data_trips)"
   ]
  },
  {
   "cell_type": "code",
   "execution_count": 37,
   "id": "e7385189",
   "metadata": {
    "execution": {
     "iopub.execute_input": "2023-11-30T05:37:31.462976Z",
     "iopub.status.busy": "2023-11-30T05:37:31.461050Z",
     "iopub.status.idle": "2023-11-30T05:37:40.872750Z",
     "shell.execute_reply": "2023-11-30T05:37:40.869904Z"
    },
    "papermill": {
     "duration": 9.441323,
     "end_time": "2023-11-30T05:37:40.876062",
     "exception": false,
     "start_time": "2023-11-30T05:37:31.434739",
     "status": "completed"
    },
    "tags": []
   },
   "outputs": [],
   "source": [
    "#Convert “ride_length” from Factor to numeric\n",
    "data_trips$ride_length <- as.numeric(as.character(data_trips$ride_length))"
   ]
  },
  {
   "cell_type": "code",
   "execution_count": 38,
   "id": "76e1c38c",
   "metadata": {
    "execution": {
     "iopub.execute_input": "2023-11-30T05:37:40.926974Z",
     "iopub.status.busy": "2023-11-30T05:37:40.924914Z",
     "iopub.status.idle": "2023-11-30T05:37:54.656311Z",
     "shell.execute_reply": "2023-11-30T05:37:54.653823Z"
    },
    "papermill": {
     "duration": 13.760538,
     "end_time": "2023-11-30T05:37:54.659748",
     "exception": false,
     "start_time": "2023-11-30T05:37:40.899210",
     "status": "completed"
    },
    "tags": []
   },
   "outputs": [],
   "source": [
    "#Remove “bad” data\n",
    "clean_data_trips <- data_trips[!data_trips$ride_length<0,]"
   ]
  },
  {
   "cell_type": "code",
   "execution_count": 39,
   "id": "ca76a31a",
   "metadata": {
    "execution": {
     "iopub.execute_input": "2023-11-30T05:37:54.710721Z",
     "iopub.status.busy": "2023-11-30T05:37:54.708717Z",
     "iopub.status.idle": "2023-11-30T05:39:22.289603Z",
     "shell.execute_reply": "2023-11-30T05:39:22.286892Z"
    },
    "papermill": {
     "duration": 87.610713,
     "end_time": "2023-11-30T05:39:22.293605",
     "exception": false,
     "start_time": "2023-11-30T05:37:54.682892",
     "status": "completed"
    },
    "tags": []
   },
   "outputs": [],
   "source": [
    "#Save the clean data\n",
    "write.csv(clean_data_trips,\"data\\\\clean_data_trips.csv\",row.names = FALSE)"
   ]
  },
  {
   "cell_type": "markdown",
   "id": "8014d08c",
   "metadata": {
    "papermill": {
     "duration": 0.023569,
     "end_time": "2023-11-30T05:39:22.344880",
     "exception": false,
     "start_time": "2023-11-30T05:39:22.321311",
     "status": "completed"
    },
    "tags": []
   },
   "source": [
    "Step 4: Analyze****"
   ]
  },
  {
   "cell_type": "code",
   "execution_count": 40,
   "id": "d3e7d336",
   "metadata": {
    "execution": {
     "iopub.execute_input": "2023-11-30T05:39:22.397534Z",
     "iopub.status.busy": "2023-11-30T05:39:22.395493Z",
     "iopub.status.idle": "2023-11-30T05:39:22.980132Z",
     "shell.execute_reply": "2023-11-30T05:39:22.977315Z"
    },
    "papermill": {
     "duration": 0.615028,
     "end_time": "2023-11-30T05:39:22.983590",
     "exception": false,
     "start_time": "2023-11-30T05:39:22.368562",
     "status": "completed"
    },
    "tags": []
   },
   "outputs": [
    {
     "data": {
      "text/plain": [
       "   Min. 1st Qu.  Median    Mean 3rd Qu.    Max. \n",
       "      1     349     617    1167    1108 2483235 "
      ]
     },
     "metadata": {},
     "output_type": "display_data"
    }
   ],
   "source": [
    "#Descriptive Analysis\n",
    "#Analysis:- min, max, median, average\n",
    "summary(clean_data_trips$ride_length)"
   ]
  },
  {
   "cell_type": "code",
   "execution_count": 41,
   "id": "856e15bc",
   "metadata": {
    "execution": {
     "iopub.execute_input": "2023-11-30T05:39:23.038868Z",
     "iopub.status.busy": "2023-11-30T05:39:23.036843Z",
     "iopub.status.idle": "2023-11-30T05:39:32.819346Z",
     "shell.execute_reply": "2023-11-30T05:39:32.816459Z"
    },
    "papermill": {
     "duration": 9.81456,
     "end_time": "2023-11-30T05:39:32.823395",
     "exception": false,
     "start_time": "2023-11-30T05:39:23.008835",
     "status": "completed"
    },
    "tags": []
   },
   "outputs": [
    {
     "data": {
      "text/html": [
       "<table class=\"dataframe\">\n",
       "<caption>A data.frame: 2 × 2</caption>\n",
       "<thead>\n",
       "\t<tr><th scope=col>clean_data_trips$member_casual</th><th scope=col>clean_data_trips$ride_length</th></tr>\n",
       "\t<tr><th scope=col>&lt;chr&gt;</th><th scope=col>&lt;dbl&gt;</th></tr>\n",
       "</thead>\n",
       "<tbody>\n",
       "\t<tr><td>casual</td><td>1748.9000</td></tr>\n",
       "\t<tr><td>member</td><td> 762.8915</td></tr>\n",
       "</tbody>\n",
       "</table>\n"
      ],
      "text/latex": [
       "A data.frame: 2 × 2\n",
       "\\begin{tabular}{ll}\n",
       " clean\\_data\\_trips\\$member\\_casual & clean\\_data\\_trips\\$ride\\_length\\\\\n",
       " <chr> & <dbl>\\\\\n",
       "\\hline\n",
       "\t casual & 1748.9000\\\\\n",
       "\t member &  762.8915\\\\\n",
       "\\end{tabular}\n"
      ],
      "text/markdown": [
       "\n",
       "A data.frame: 2 × 2\n",
       "\n",
       "| clean_data_trips$member_casual &lt;chr&gt; | clean_data_trips$ride_length &lt;dbl&gt; |\n",
       "|---|---|\n",
       "| casual | 1748.9000 |\n",
       "| member |  762.8915 |\n",
       "\n"
      ],
      "text/plain": [
       "  clean_data_trips$member_casual clean_data_trips$ride_length\n",
       "1 casual                         1748.9000                   \n",
       "2 member                          762.8915                   "
      ]
     },
     "metadata": {},
     "output_type": "display_data"
    }
   ],
   "source": [
    "#Compare members and casual users\n",
    "aggregate(clean_data_trips$ride_length ~ clean_data_trips$member_casual, FUN = mean)"
   ]
  },
  {
   "cell_type": "code",
   "execution_count": 42,
   "id": "3568e049",
   "metadata": {
    "execution": {
     "iopub.execute_input": "2023-11-30T05:39:32.876911Z",
     "iopub.status.busy": "2023-11-30T05:39:32.874976Z",
     "iopub.status.idle": "2023-11-30T05:39:39.404245Z",
     "shell.execute_reply": "2023-11-30T05:39:39.402072Z"
    },
    "papermill": {
     "duration": 6.558782,
     "end_time": "2023-11-30T05:39:39.407144",
     "exception": false,
     "start_time": "2023-11-30T05:39:32.848362",
     "status": "completed"
    },
    "tags": []
   },
   "outputs": [
    {
     "data": {
      "text/html": [
       "<table class=\"dataframe\">\n",
       "<caption>A data.frame: 2 × 2</caption>\n",
       "<thead>\n",
       "\t<tr><th scope=col>clean_data_trips$member_casual</th><th scope=col>clean_data_trips$ride_length</th></tr>\n",
       "\t<tr><th scope=col>&lt;chr&gt;</th><th scope=col>&lt;dbl&gt;</th></tr>\n",
       "</thead>\n",
       "<tbody>\n",
       "\t<tr><td>casual</td><td>780</td></tr>\n",
       "\t<tr><td>member</td><td>530</td></tr>\n",
       "</tbody>\n",
       "</table>\n"
      ],
      "text/latex": [
       "A data.frame: 2 × 2\n",
       "\\begin{tabular}{ll}\n",
       " clean\\_data\\_trips\\$member\\_casual & clean\\_data\\_trips\\$ride\\_length\\\\\n",
       " <chr> & <dbl>\\\\\n",
       "\\hline\n",
       "\t casual & 780\\\\\n",
       "\t member & 530\\\\\n",
       "\\end{tabular}\n"
      ],
      "text/markdown": [
       "\n",
       "A data.frame: 2 × 2\n",
       "\n",
       "| clean_data_trips$member_casual &lt;chr&gt; | clean_data_trips$ride_length &lt;dbl&gt; |\n",
       "|---|---|\n",
       "| casual | 780 |\n",
       "| member | 530 |\n",
       "\n"
      ],
      "text/plain": [
       "  clean_data_trips$member_casual clean_data_trips$ride_length\n",
       "1 casual                         780                         \n",
       "2 member                         530                         "
      ]
     },
     "metadata": {},
     "output_type": "display_data"
    }
   ],
   "source": [
    "aggregate(clean_data_trips$ride_length ~ clean_data_trips$member_casual, FUN = median)"
   ]
  },
  {
   "cell_type": "code",
   "execution_count": 43,
   "id": "09d2fddd",
   "metadata": {
    "execution": {
     "iopub.execute_input": "2023-11-30T05:39:39.460840Z",
     "iopub.status.busy": "2023-11-30T05:39:39.458664Z",
     "iopub.status.idle": "2023-11-30T05:39:47.182940Z",
     "shell.execute_reply": "2023-11-30T05:39:47.180742Z"
    },
    "papermill": {
     "duration": 7.75339,
     "end_time": "2023-11-30T05:39:47.185795",
     "exception": false,
     "start_time": "2023-11-30T05:39:39.432405",
     "status": "completed"
    },
    "tags": []
   },
   "outputs": [
    {
     "data": {
      "text/html": [
       "<table class=\"dataframe\">\n",
       "<caption>A data.frame: 2 × 2</caption>\n",
       "<thead>\n",
       "\t<tr><th scope=col>clean_data_trips$member_casual</th><th scope=col>clean_data_trips$ride_length</th></tr>\n",
       "\t<tr><th scope=col>&lt;chr&gt;</th><th scope=col>&lt;dbl&gt;</th></tr>\n",
       "</thead>\n",
       "<tbody>\n",
       "\t<tr><td>casual</td><td>2483235</td></tr>\n",
       "\t<tr><td>member</td><td>  93594</td></tr>\n",
       "</tbody>\n",
       "</table>\n"
      ],
      "text/latex": [
       "A data.frame: 2 × 2\n",
       "\\begin{tabular}{ll}\n",
       " clean\\_data\\_trips\\$member\\_casual & clean\\_data\\_trips\\$ride\\_length\\\\\n",
       " <chr> & <dbl>\\\\\n",
       "\\hline\n",
       "\t casual & 2483235\\\\\n",
       "\t member &   93594\\\\\n",
       "\\end{tabular}\n"
      ],
      "text/markdown": [
       "\n",
       "A data.frame: 2 × 2\n",
       "\n",
       "| clean_data_trips$member_casual &lt;chr&gt; | clean_data_trips$ride_length &lt;dbl&gt; |\n",
       "|---|---|\n",
       "| casual | 2483235 |\n",
       "| member |   93594 |\n",
       "\n"
      ],
      "text/plain": [
       "  clean_data_trips$member_casual clean_data_trips$ride_length\n",
       "1 casual                         2483235                     \n",
       "2 member                           93594                     "
      ]
     },
     "metadata": {},
     "output_type": "display_data"
    }
   ],
   "source": [
    "aggregate(clean_data_trips$ride_length ~ clean_data_trips$member_casual, FUN = max)"
   ]
  },
  {
   "cell_type": "code",
   "execution_count": 44,
   "id": "11cef502",
   "metadata": {
    "execution": {
     "iopub.execute_input": "2023-11-30T05:39:47.240419Z",
     "iopub.status.busy": "2023-11-30T05:39:47.238631Z",
     "iopub.status.idle": "2023-11-30T05:39:55.059986Z",
     "shell.execute_reply": "2023-11-30T05:39:55.057008Z"
    },
    "papermill": {
     "duration": 7.852597,
     "end_time": "2023-11-30T05:39:55.064073",
     "exception": false,
     "start_time": "2023-11-30T05:39:47.211476",
     "status": "completed"
    },
    "tags": []
   },
   "outputs": [
    {
     "data": {
      "text/html": [
       "<table class=\"dataframe\">\n",
       "<caption>A data.frame: 2 × 2</caption>\n",
       "<thead>\n",
       "\t<tr><th scope=col>clean_data_trips$member_casual</th><th scope=col>clean_data_trips$ride_length</th></tr>\n",
       "\t<tr><th scope=col>&lt;chr&gt;</th><th scope=col>&lt;dbl&gt;</th></tr>\n",
       "</thead>\n",
       "<tbody>\n",
       "\t<tr><td>casual</td><td>1</td></tr>\n",
       "\t<tr><td>member</td><td>1</td></tr>\n",
       "</tbody>\n",
       "</table>\n"
      ],
      "text/latex": [
       "A data.frame: 2 × 2\n",
       "\\begin{tabular}{ll}\n",
       " clean\\_data\\_trips\\$member\\_casual & clean\\_data\\_trips\\$ride\\_length\\\\\n",
       " <chr> & <dbl>\\\\\n",
       "\\hline\n",
       "\t casual & 1\\\\\n",
       "\t member & 1\\\\\n",
       "\\end{tabular}\n"
      ],
      "text/markdown": [
       "\n",
       "A data.frame: 2 × 2\n",
       "\n",
       "| clean_data_trips$member_casual &lt;chr&gt; | clean_data_trips$ride_length &lt;dbl&gt; |\n",
       "|---|---|\n",
       "| casual | 1 |\n",
       "| member | 1 |\n",
       "\n"
      ],
      "text/plain": [
       "  clean_data_trips$member_casual clean_data_trips$ride_length\n",
       "1 casual                         1                           \n",
       "2 member                         1                           "
      ]
     },
     "metadata": {},
     "output_type": "display_data"
    }
   ],
   "source": [
    "aggregate(clean_data_trips$ride_length ~ clean_data_trips$member_casual, FUN = min)"
   ]
  },
  {
   "cell_type": "code",
   "execution_count": 45,
   "id": "91dbc4e8",
   "metadata": {
    "execution": {
     "iopub.execute_input": "2023-11-30T05:39:55.118036Z",
     "iopub.status.busy": "2023-11-30T05:39:55.116225Z",
     "iopub.status.idle": "2023-11-30T05:39:55.295108Z",
     "shell.execute_reply": "2023-11-30T05:39:55.292992Z"
    },
    "papermill": {
     "duration": 0.209078,
     "end_time": "2023-11-30T05:39:55.298158",
     "exception": false,
     "start_time": "2023-11-30T05:39:55.089080",
     "status": "completed"
    },
    "tags": []
   },
   "outputs": [],
   "source": [
    "clean_data_trips$day_of_week <- ordered(clean_data_trips$day_of_week, levels = c(\"Sunday\", \"Monday\", \"Tuesday\", \"Wednesday\", \"Thursday\", \"Friday\", \"Saturday\"))"
   ]
  },
  {
   "cell_type": "code",
   "execution_count": 46,
   "id": "001a1f50",
   "metadata": {
    "execution": {
     "iopub.execute_input": "2023-11-30T05:39:55.351471Z",
     "iopub.status.busy": "2023-11-30T05:39:55.349712Z",
     "iopub.status.idle": "2023-11-30T05:40:09.372808Z",
     "shell.execute_reply": "2023-11-30T05:40:09.369802Z"
    },
    "papermill": {
     "duration": 14.054379,
     "end_time": "2023-11-30T05:40:09.376830",
     "exception": false,
     "start_time": "2023-11-30T05:39:55.322451",
     "status": "completed"
    },
    "tags": []
   },
   "outputs": [
    {
     "data": {
      "text/html": [
       "<table class=\"dataframe\">\n",
       "<caption>A data.frame: 14 × 3</caption>\n",
       "<thead>\n",
       "\t<tr><th scope=col>clean_data_trips$member_casual</th><th scope=col>clean_data_trips$day_of_week</th><th scope=col>clean_data_trips$ride_length</th></tr>\n",
       "\t<tr><th scope=col>&lt;chr&gt;</th><th scope=col>&lt;ord&gt;</th><th scope=col>&lt;dbl&gt;</th></tr>\n",
       "</thead>\n",
       "<tbody>\n",
       "\t<tr><td>casual</td><td>Sunday   </td><td>2043.6343</td></tr>\n",
       "\t<tr><td>member</td><td>Sunday   </td><td> 841.9355</td></tr>\n",
       "\t<tr><td>casual</td><td>Monday   </td><td>1751.3805</td></tr>\n",
       "\t<tr><td>member</td><td>Monday   </td><td> 736.2531</td></tr>\n",
       "\t<tr><td>casual</td><td>Tuesday  </td><td>1549.5189</td></tr>\n",
       "\t<tr><td>member</td><td>Tuesday  </td><td> 727.8171</td></tr>\n",
       "\t<tr><td>casual</td><td>Wednesday</td><td>1485.1319</td></tr>\n",
       "\t<tr><td>member</td><td>Wednesday</td><td> 726.3364</td></tr>\n",
       "\t<tr><td>casual</td><td>Thursday </td><td>1533.0238</td></tr>\n",
       "\t<tr><td>member</td><td>Thursday </td><td> 737.6191</td></tr>\n",
       "\t<tr><td>casual</td><td>Friday   </td><td>1682.8110</td></tr>\n",
       "\t<tr><td>member</td><td>Friday   </td><td> 751.8978</td></tr>\n",
       "\t<tr><td>casual</td><td>Saturday </td><td>1957.0725</td></tr>\n",
       "\t<tr><td>member</td><td>Saturday </td><td> 848.4573</td></tr>\n",
       "</tbody>\n",
       "</table>\n"
      ],
      "text/latex": [
       "A data.frame: 14 × 3\n",
       "\\begin{tabular}{lll}\n",
       " clean\\_data\\_trips\\$member\\_casual & clean\\_data\\_trips\\$day\\_of\\_week & clean\\_data\\_trips\\$ride\\_length\\\\\n",
       " <chr> & <ord> & <dbl>\\\\\n",
       "\\hline\n",
       "\t casual & Sunday    & 2043.6343\\\\\n",
       "\t member & Sunday    &  841.9355\\\\\n",
       "\t casual & Monday    & 1751.3805\\\\\n",
       "\t member & Monday    &  736.2531\\\\\n",
       "\t casual & Tuesday   & 1549.5189\\\\\n",
       "\t member & Tuesday   &  727.8171\\\\\n",
       "\t casual & Wednesday & 1485.1319\\\\\n",
       "\t member & Wednesday &  726.3364\\\\\n",
       "\t casual & Thursday  & 1533.0238\\\\\n",
       "\t member & Thursday  &  737.6191\\\\\n",
       "\t casual & Friday    & 1682.8110\\\\\n",
       "\t member & Friday    &  751.8978\\\\\n",
       "\t casual & Saturday  & 1957.0725\\\\\n",
       "\t member & Saturday  &  848.4573\\\\\n",
       "\\end{tabular}\n"
      ],
      "text/markdown": [
       "\n",
       "A data.frame: 14 × 3\n",
       "\n",
       "| clean_data_trips$member_casual &lt;chr&gt; | clean_data_trips$day_of_week &lt;ord&gt; | clean_data_trips$ride_length &lt;dbl&gt; |\n",
       "|---|---|---|\n",
       "| casual | Sunday    | 2043.6343 |\n",
       "| member | Sunday    |  841.9355 |\n",
       "| casual | Monday    | 1751.3805 |\n",
       "| member | Monday    |  736.2531 |\n",
       "| casual | Tuesday   | 1549.5189 |\n",
       "| member | Tuesday   |  727.8171 |\n",
       "| casual | Wednesday | 1485.1319 |\n",
       "| member | Wednesday |  726.3364 |\n",
       "| casual | Thursday  | 1533.0238 |\n",
       "| member | Thursday  |  737.6191 |\n",
       "| casual | Friday    | 1682.8110 |\n",
       "| member | Friday    |  751.8978 |\n",
       "| casual | Saturday  | 1957.0725 |\n",
       "| member | Saturday  |  848.4573 |\n",
       "\n"
      ],
      "text/plain": [
       "   clean_data_trips$member_casual clean_data_trips$day_of_week\n",
       "1  casual                         Sunday                      \n",
       "2  member                         Sunday                      \n",
       "3  casual                         Monday                      \n",
       "4  member                         Monday                      \n",
       "5  casual                         Tuesday                     \n",
       "6  member                         Tuesday                     \n",
       "7  casual                         Wednesday                   \n",
       "8  member                         Wednesday                   \n",
       "9  casual                         Thursday                    \n",
       "10 member                         Thursday                    \n",
       "11 casual                         Friday                      \n",
       "12 member                         Friday                      \n",
       "13 casual                         Saturday                    \n",
       "14 member                         Saturday                    \n",
       "   clean_data_trips$ride_length\n",
       "1  2043.6343                   \n",
       "2   841.9355                   \n",
       "3  1751.3805                   \n",
       "4   736.2531                   \n",
       "5  1549.5189                   \n",
       "6   727.8171                   \n",
       "7  1485.1319                   \n",
       "8   726.3364                   \n",
       "9  1533.0238                   \n",
       "10  737.6191                   \n",
       "11 1682.8110                   \n",
       "12  751.8978                   \n",
       "13 1957.0725                   \n",
       "14  848.4573                   "
      ]
     },
     "metadata": {},
     "output_type": "display_data"
    }
   ],
   "source": [
    "aggregate(clean_data_trips$ride_length ~ clean_data_trips$member_casual + clean_data_trips$day_of_week, FUN = mean)"
   ]
  },
  {
   "cell_type": "code",
   "execution_count": 47,
   "id": "f0bc5692",
   "metadata": {
    "execution": {
     "iopub.execute_input": "2023-11-30T05:40:09.432538Z",
     "iopub.status.busy": "2023-11-30T05:40:09.430477Z",
     "iopub.status.idle": "2023-11-30T05:40:11.482140Z",
     "shell.execute_reply": "2023-11-30T05:40:11.479919Z"
    },
    "papermill": {
     "duration": 2.08233,
     "end_time": "2023-11-30T05:40:11.484729",
     "exception": false,
     "start_time": "2023-11-30T05:40:09.402399",
     "status": "completed"
    },
    "tags": []
   },
   "outputs": [
    {
     "name": "stderr",
     "output_type": "stream",
     "text": [
      "\u001b[1m\u001b[22m`summarise()` has grouped output by 'member_casual'. You can override using the\n",
      "`.groups` argument.\n"
     ]
    },
    {
     "data": {
      "text/html": [
       "<table class=\"dataframe\">\n",
       "<caption>A grouped_df: 14 × 7</caption>\n",
       "<thead>\n",
       "\t<tr><th scope=col>member_casual</th><th scope=col>day_of_week</th><th scope=col>number_of_ride</th><th scope=col>avgerage_duration</th><th scope=col>median_duration</th><th scope=col>max_duration</th><th scope=col>min_duration</th></tr>\n",
       "\t<tr><th scope=col>&lt;chr&gt;</th><th scope=col>&lt;ord&gt;</th><th scope=col>&lt;int&gt;</th><th scope=col>&lt;dbl&gt;</th><th scope=col>&lt;dbl&gt;</th><th scope=col>&lt;dbl&gt;</th><th scope=col>&lt;dbl&gt;</th></tr>\n",
       "</thead>\n",
       "<tbody>\n",
       "\t<tr><td>casual</td><td>Sunday   </td><td>388981</td><td>2043.6343</td><td>901</td><td>2175468</td><td>1</td></tr>\n",
       "\t<tr><td>casual</td><td>Monday   </td><td>277649</td><td>1751.3805</td><td>772</td><td>1922127</td><td>1</td></tr>\n",
       "\t<tr><td>casual</td><td>Tuesday  </td><td>263706</td><td>1549.5189</td><td>692</td><td>1865151</td><td>1</td></tr>\n",
       "\t<tr><td>casual</td><td>Wednesday</td><td>274339</td><td>1485.1319</td><td>686</td><td>2149238</td><td>1</td></tr>\n",
       "\t<tr><td>casual</td><td>Thursday </td><td>309297</td><td>1533.0238</td><td>705</td><td>1861410</td><td>1</td></tr>\n",
       "\t<tr><td>casual</td><td>Friday   </td><td>334667</td><td>1682.8110</td><td>748</td><td>1944178</td><td>1</td></tr>\n",
       "\t<tr><td>casual</td><td>Saturday </td><td>473130</td><td>1957.0725</td><td>898</td><td>2483235</td><td>1</td></tr>\n",
       "\t<tr><td>member</td><td>Sunday   </td><td>387180</td><td> 841.9355</td><td>573</td><td>  89997</td><td>1</td></tr>\n",
       "\t<tr><td>member</td><td>Monday   </td><td>473305</td><td> 736.2531</td><td>507</td><td>  89997</td><td>1</td></tr>\n",
       "\t<tr><td>member</td><td>Tuesday  </td><td>518584</td><td> 727.8171</td><td>509</td><td>  89997</td><td>1</td></tr>\n",
       "\t<tr><td>member</td><td>Wednesday</td><td>523836</td><td> 726.3364</td><td>515</td><td>  89997</td><td>1</td></tr>\n",
       "\t<tr><td>member</td><td>Thursday </td><td>532215</td><td> 737.6191</td><td>520</td><td>  89997</td><td>1</td></tr>\n",
       "\t<tr><td>member</td><td>Friday   </td><td>467051</td><td> 751.8978</td><td>523</td><td>  89998</td><td>1</td></tr>\n",
       "\t<tr><td>member</td><td>Saturday </td><td>443246</td><td> 848.4573</td><td>588</td><td>  93594</td><td>1</td></tr>\n",
       "</tbody>\n",
       "</table>\n"
      ],
      "text/latex": [
       "A grouped\\_df: 14 × 7\n",
       "\\begin{tabular}{lllllll}\n",
       " member\\_casual & day\\_of\\_week & number\\_of\\_ride & avgerage\\_duration & median\\_duration & max\\_duration & min\\_duration\\\\\n",
       " <chr> & <ord> & <int> & <dbl> & <dbl> & <dbl> & <dbl>\\\\\n",
       "\\hline\n",
       "\t casual & Sunday    & 388981 & 2043.6343 & 901 & 2175468 & 1\\\\\n",
       "\t casual & Monday    & 277649 & 1751.3805 & 772 & 1922127 & 1\\\\\n",
       "\t casual & Tuesday   & 263706 & 1549.5189 & 692 & 1865151 & 1\\\\\n",
       "\t casual & Wednesday & 274339 & 1485.1319 & 686 & 2149238 & 1\\\\\n",
       "\t casual & Thursday  & 309297 & 1533.0238 & 705 & 1861410 & 1\\\\\n",
       "\t casual & Friday    & 334667 & 1682.8110 & 748 & 1944178 & 1\\\\\n",
       "\t casual & Saturday  & 473130 & 1957.0725 & 898 & 2483235 & 1\\\\\n",
       "\t member & Sunday    & 387180 &  841.9355 & 573 &   89997 & 1\\\\\n",
       "\t member & Monday    & 473305 &  736.2531 & 507 &   89997 & 1\\\\\n",
       "\t member & Tuesday   & 518584 &  727.8171 & 509 &   89997 & 1\\\\\n",
       "\t member & Wednesday & 523836 &  726.3364 & 515 &   89997 & 1\\\\\n",
       "\t member & Thursday  & 532215 &  737.6191 & 520 &   89997 & 1\\\\\n",
       "\t member & Friday    & 467051 &  751.8978 & 523 &   89998 & 1\\\\\n",
       "\t member & Saturday  & 443246 &  848.4573 & 588 &   93594 & 1\\\\\n",
       "\\end{tabular}\n"
      ],
      "text/markdown": [
       "\n",
       "A grouped_df: 14 × 7\n",
       "\n",
       "| member_casual &lt;chr&gt; | day_of_week &lt;ord&gt; | number_of_ride &lt;int&gt; | avgerage_duration &lt;dbl&gt; | median_duration &lt;dbl&gt; | max_duration &lt;dbl&gt; | min_duration &lt;dbl&gt; |\n",
       "|---|---|---|---|---|---|---|\n",
       "| casual | Sunday    | 388981 | 2043.6343 | 901 | 2175468 | 1 |\n",
       "| casual | Monday    | 277649 | 1751.3805 | 772 | 1922127 | 1 |\n",
       "| casual | Tuesday   | 263706 | 1549.5189 | 692 | 1865151 | 1 |\n",
       "| casual | Wednesday | 274339 | 1485.1319 | 686 | 2149238 | 1 |\n",
       "| casual | Thursday  | 309297 | 1533.0238 | 705 | 1861410 | 1 |\n",
       "| casual | Friday    | 334667 | 1682.8110 | 748 | 1944178 | 1 |\n",
       "| casual | Saturday  | 473130 | 1957.0725 | 898 | 2483235 | 1 |\n",
       "| member | Sunday    | 387180 |  841.9355 | 573 |   89997 | 1 |\n",
       "| member | Monday    | 473305 |  736.2531 | 507 |   89997 | 1 |\n",
       "| member | Tuesday   | 518584 |  727.8171 | 509 |   89997 | 1 |\n",
       "| member | Wednesday | 523836 |  726.3364 | 515 |   89997 | 1 |\n",
       "| member | Thursday  | 532215 |  737.6191 | 520 |   89997 | 1 |\n",
       "| member | Friday    | 467051 |  751.8978 | 523 |   89998 | 1 |\n",
       "| member | Saturday  | 443246 |  848.4573 | 588 |   93594 | 1 |\n",
       "\n"
      ],
      "text/plain": [
       "   member_casual day_of_week number_of_ride avgerage_duration median_duration\n",
       "1  casual        Sunday      388981         2043.6343         901            \n",
       "2  casual        Monday      277649         1751.3805         772            \n",
       "3  casual        Tuesday     263706         1549.5189         692            \n",
       "4  casual        Wednesday   274339         1485.1319         686            \n",
       "5  casual        Thursday    309297         1533.0238         705            \n",
       "6  casual        Friday      334667         1682.8110         748            \n",
       "7  casual        Saturday    473130         1957.0725         898            \n",
       "8  member        Sunday      387180          841.9355         573            \n",
       "9  member        Monday      473305          736.2531         507            \n",
       "10 member        Tuesday     518584          727.8171         509            \n",
       "11 member        Wednesday   523836          726.3364         515            \n",
       "12 member        Thursday    532215          737.6191         520            \n",
       "13 member        Friday      467051          751.8978         523            \n",
       "14 member        Saturday    443246          848.4573         588            \n",
       "   max_duration min_duration\n",
       "1  2175468      1           \n",
       "2  1922127      1           \n",
       "3  1865151      1           \n",
       "4  2149238      1           \n",
       "5  1861410      1           \n",
       "6  1944178      1           \n",
       "7  2483235      1           \n",
       "8    89997      1           \n",
       "9    89997      1           \n",
       "10   89997      1           \n",
       "11   89997      1           \n",
       "12   89997      1           \n",
       "13   89998      1           \n",
       "14   93594      1           "
      ]
     },
     "metadata": {},
     "output_type": "display_data"
    }
   ],
   "source": [
    "#Average duration sorted by rider type, then day of the week\n",
    "clean_data_trips %>% \n",
    "  group_by(member_casual, day_of_week) %>% \n",
    "  summarise(number_of_ride = n(),\n",
    "            avgerage_duration = mean(ride_length),\n",
    "            median_duration = median(ride_length),\n",
    "            max_duration = max(ride_length),\n",
    "            min_duration = min(ride_length))"
   ]
  },
  {
   "cell_type": "code",
   "execution_count": 48,
   "id": "cca24f54",
   "metadata": {
    "execution": {
     "iopub.execute_input": "2023-11-30T05:40:11.539992Z",
     "iopub.status.busy": "2023-11-30T05:40:11.538079Z",
     "iopub.status.idle": "2023-11-30T05:40:43.124801Z",
     "shell.execute_reply": "2023-11-30T05:40:43.122212Z"
    },
    "papermill": {
     "duration": 31.618391,
     "end_time": "2023-11-30T05:40:43.128349",
     "exception": false,
     "start_time": "2023-11-30T05:40:11.509958",
     "status": "completed"
    },
    "tags": []
   },
   "outputs": [],
   "source": [
    "clean_data_trips_viz <- clean_data_trips %>% \n",
    "  select(rideable_type, started_at, ended_at, start_station_name, end_station_name, member_casual, month, day, year, day_of_week, ride_length)\n",
    "\n",
    "write.csv(clean_data_trips_viz,\"data\\\\clean_data_trips_viz.csv\",row.names = FALSE)"
   ]
  },
  {
   "cell_type": "markdown",
   "id": "895cfb98",
   "metadata": {
    "papermill": {
     "duration": 0.027153,
     "end_time": "2023-11-30T05:40:43.184743",
     "exception": false,
     "start_time": "2023-11-30T05:40:43.157590",
     "status": "completed"
    },
    "tags": []
   },
   "source": [
    "Step 5: Share****"
   ]
  },
  {
   "cell_type": "code",
   "execution_count": 49,
   "id": "8a62b56e",
   "metadata": {
    "execution": {
     "iopub.execute_input": "2023-11-30T05:40:43.242303Z",
     "iopub.status.busy": "2023-11-30T05:40:43.240005Z",
     "iopub.status.idle": "2023-11-30T05:40:44.265812Z",
     "shell.execute_reply": "2023-11-30T05:40:44.262724Z"
    },
    "papermill": {
     "duration": 1.059263,
     "end_time": "2023-11-30T05:40:44.269469",
     "exception": false,
     "start_time": "2023-11-30T05:40:43.210206",
     "status": "completed"
    },
    "tags": []
   },
   "outputs": [
    {
     "name": "stderr",
     "output_type": "stream",
     "text": [
      "\u001b[1m\u001b[22m`summarise()` has grouped output by 'member_casual'. You can override using the\n",
      "`.groups` argument.\n"
     ]
    },
    {
     "data": {
      "image/png": "[encoded data removed]"
     },
     "metadata": {
      "image/png": {
       "height": 420,
       "width": 420
      }
     },
     "output_type": "display_data"
    }
   ],
   "source": [
    "#Number of Rides: Casual vs. Member Riders - Viz 1\n",
    "clean_data_trips %>% \n",
    "  group_by(member_casual, day_of_week) %>% \n",
    "  summarise(number_of_ride = n(),\n",
    "            avgerage_duration = mean(ride_length))%>% \n",
    "  arrange(member_casual, day_of_week)  %>% \n",
    "  ggplot(aes(x = day_of_week, y = number_of_ride, fill = member_casual)) +\n",
    "  geom_col(position = \"dodge\") + \n",
    "  labs(title = \"Number of Rides: Casual vs. Member Riders\")"
   ]
  },
  {
   "cell_type": "code",
   "execution_count": 50,
   "id": "f71465d2",
   "metadata": {
    "execution": {
     "iopub.execute_input": "2023-11-30T05:40:44.327503Z",
     "iopub.status.busy": "2023-11-30T05:40:44.325506Z",
     "iopub.status.idle": "2023-11-30T05:40:45.014019Z",
     "shell.execute_reply": "2023-11-30T05:40:45.009600Z"
    },
    "papermill": {
     "duration": 0.72161,
     "end_time": "2023-11-30T05:40:45.017749",
     "exception": false,
     "start_time": "2023-11-30T05:40:44.296139",
     "status": "completed"
    },
    "tags": []
   },
   "outputs": [
    {
     "data": {
      "image/png": "[encoded data removed]"
     },
     "metadata": {
      "image/png": {
       "height": 420,
       "width": 420
      }
     },
     "output_type": "display_data"
    }
   ],
   "source": [
    "#Total rider by Members and Casual riders vs. Month - Viz 2\n",
    "clean_data_trips %>%  \n",
    "  group_by(member_casual, month) %>% \n",
    "  summarise(number_of_rides = n(),\n",
    "            avgerage_duration = mean(ride_length),.groups=\"drop\") %>% \n",
    "  arrange(member_casual, month)  %>% \n",
    "  ggplot(aes(x = month, y = number_of_rides, fill = member_casual)) +\n",
    "  labs(title =\"Total rides by Members and Casual riders Vs. Month\", x = \"Month\", y= \"Number Of Rides\") +\n",
    "  theme(axis.text.x = element_text(angle = 45)) +\n",
    "  geom_col(width=0.5, position = position_dodge(width=0.5)) +\n",
    "  scale_y_continuous(labels = function(x) format(x, scientific = FALSE))"
   ]
  },
  {
   "cell_type": "code",
   "execution_count": 51,
   "id": "95910234",
   "metadata": {
    "execution": {
     "iopub.execute_input": "2023-11-30T05:40:45.078832Z",
     "iopub.status.busy": "2023-11-30T05:40:45.076780Z",
     "iopub.status.idle": "2023-11-30T05:40:45.665406Z",
     "shell.execute_reply": "2023-11-30T05:40:45.662000Z"
    },
    "papermill": {
     "duration": 0.623904,
     "end_time": "2023-11-30T05:40:45.669097",
     "exception": false,
     "start_time": "2023-11-30T05:40:45.045193",
     "status": "completed"
    },
    "tags": []
   },
   "outputs": [
    {
     "data": {
      "image/png": "[encoded data removed]"
     },
     "metadata": {
      "image/png": {
       "height": 420,
       "width": 420
      }
     },
     "output_type": "display_data"
    }
   ],
   "source": [
    "#Total rides by Members and Casual riders vs. Day of the week - Viz 3\n",
    "clean_data_trips %>%  \n",
    "  group_by(member_casual, day_of_week) %>% \n",
    "  summarise(number_of_rides = n(), .groups=\"drop\") %>% \n",
    "  arrange(member_casual, day_of_week)  %>% \n",
    "  ggplot(aes(x = day_of_week, y = number_of_rides, fill = member_casual)) +\n",
    "  labs(title =\"Total rides by Members and Casual riders Vs. Day of the week\") +\n",
    "  geom_col(width=0.5, position = position_dodge(width=0.5)) +\n",
    "  scale_y_continuous(labels = function(x) format(x, scientific = FALSE))"
   ]
  },
  {
   "cell_type": "code",
   "execution_count": 52,
   "id": "4a31694f",
   "metadata": {
    "execution": {
     "iopub.execute_input": "2023-11-30T05:40:45.730430Z",
     "iopub.status.busy": "2023-11-30T05:40:45.728384Z",
     "iopub.status.idle": "2023-11-30T05:40:46.425673Z",
     "shell.execute_reply": "2023-11-30T05:40:46.422352Z"
    },
    "papermill": {
     "duration": 0.73207,
     "end_time": "2023-11-30T05:40:46.429340",
     "exception": false,
     "start_time": "2023-11-30T05:40:45.697270",
     "status": "completed"
    },
    "tags": []
   },
   "outputs": [
    {
     "data": {
      "image/png": "[encoded data removed]"
     },
     "metadata": {
      "image/png": {
       "height": 420,
       "width": 420
      }
     },
     "output_type": "display_data"
    }
   ],
   "source": [
    "#Average ride time by Members and Casual riders Vs. Day of the week - Viz 4\n",
    "clean_data_trips %>%  \n",
    "  group_by(member_casual, day_of_week) %>% \n",
    "  summarise(average_ride_length = mean(ride_length), .groups=\"drop\") %>%\n",
    "  ggplot(aes(x = day_of_week, y = average_ride_length, fill = member_casual)) +\n",
    "  geom_col(width=0.5, position = position_dodge(width=0.5)) + \n",
    "  labs(title =\"Average ride time by Members and Casual riders Vs. Day of the week\")"
   ]
  },
  {
   "cell_type": "code",
   "execution_count": 53,
   "id": "dedee3ab",
   "metadata": {
    "execution": {
     "iopub.execute_input": "2023-11-30T05:40:46.494031Z",
     "iopub.status.busy": "2023-11-30T05:40:46.492064Z",
     "iopub.status.idle": "2023-11-30T05:40:47.208693Z",
     "shell.execute_reply": "2023-11-30T05:40:47.205286Z"
    },
    "papermill": {
     "duration": 0.753313,
     "end_time": "2023-11-30T05:40:47.212343",
     "exception": false,
     "start_time": "2023-11-30T05:40:46.459030",
     "status": "completed"
    },
    "tags": []
   },
   "outputs": [
    {
     "name": "stderr",
     "output_type": "stream",
     "text": [
      "\u001b[1m\u001b[22m`summarise()` has grouped output by 'member_casual'. You can override using the\n",
      "`.groups` argument.\n"
     ]
    },
    {
     "data": {
      "image/png": "[encoded data removed]"
     },
     "metadata": {
      "image/png": {
       "height": 420,
       "width": 420
      }
     },
     "output_type": "display_data"
    }
   ],
   "source": [
    "#Average Duration: Casual vs. Member Riders - Viz 5\n",
    "clean_data_trips %>% \n",
    "  group_by(member_casual, day_of_week) %>% \n",
    "  summarise(number_of_ride = n()\n",
    "            ,average_duration = mean(ride_length)) %>% \n",
    "  arrange(member_casual,day_of_week)  %>% \n",
    "  ggplot(aes(x = day_of_week, y = average_duration, fill = member_casual)) +\n",
    "  geom_col(position = \"dodge\") +\n",
    "    labs(title = \"Average Duration: Casual vs. Member Riders\")"
   ]
  },
  {
   "cell_type": "markdown",
   "id": "3a628aad",
   "metadata": {
    "papermill": {
     "duration": 0.030899,
     "end_time": "2023-11-30T05:40:47.273344",
     "exception": false,
     "start_time": "2023-11-30T05:40:47.242445",
     "status": "completed"
    },
    "tags": []
   },
   "source": [
    "Step 6: Act****"
   ]
  },
  {
   "cell_type": "markdown",
   "id": "ffbd1341",
   "metadata": {
    "papermill": {
     "duration": 0.039516,
     "end_time": "2023-11-30T05:40:47.343518",
     "exception": false,
     "start_time": "2023-11-30T05:40:47.304002",
     "status": "completed"
    },
    "tags": []
   },
   "source": [
    "Based on the visualizations reflecting bike usage patterns, here are some specific strategies that Cyclistic can employ to convert casual riders into members:\n",
    "\n",
    "* Weekend Adventure Membership: Offer a tailored membership for casual riders who predominantly use bikes on weekends. This plan could include benefits such as reduced rates for weekend trips, exclusive weekend-only bikes, or reward points that accumulate during weekend use. Additionally, collaborate with local businesses to provide discounts or perks at weekend destinations, encouraging leisure usage among casual riders.\n",
    "* Seasonal Surge Promotions: Introduce a seasonal membership promotion during the peak months of spring and summer when bike usage spikes. This campaign could offer a discounted rate for a limited time, enticing casual riders to try out the membership during the months they're most likely to ride.\n",
    "* Commuter Conversion Incentives: Since members tend to use bikes consistently on weekdays, possibly for commuting, Cyclistic could introduce a 'Commuter Club' membership with perks such as guaranteed bike availability during rush hours, discounted rates for frequent weekday use, or a partnership with local transit for combined transportation options.\n",
    "* Long-Ride Loyalty Benefits: Casual riders tend to take longer rides, particularly on weekends. Cyclistic can capitalize on this by introducing a loyalty program that rewards longer rides with points that can be redeemed for free rides or membership discounts. This encourages extended usage and provides an incentive for casual riders to become members.\n",
    "* Digital Engagement Drives: Given the potential influence of digital media, Cyclistic can launch targeted online campaigns that highlight stories of casual riders converting to members, possibly showcasing the cost savings and other benefits gained over time. Interactive social media challenges or digital badges for ride milestones could also engage casual riders and foster a sense of community.\n",
    "* Exclusive Member Events: Organize members-only rides or events, such as scenic tours or cycling classes, that are available exclusively to members or at a discounted rate. Advertise these events as premium experiences that casual riders can access by becoming members.\n",
    "* Data-Driven Bike Upgrades: Utilize ride length data to offer casual riders the opportunity to try out higher-end bikes as a member-exclusive perk. This could attract those casual riders who take longer trips and would appreciate more comfortable or performance-oriented bikes.\n",
    "\n",
    "By implementing these strategies, Cyclistic can tailor their offerings to match the behaviors and preferences revealed by the data, providing a compelling value proposition that can convert casual riders into loyal members."
   ]
  }
 ],
 "metadata": {
  "kaggle": {
   "accelerator": "none",
   "dataSources": [
    {
     "datasetId": 4083498,
     "sourceId": 7087234,
     "sourceType": "datasetVersion"
    }
   ],
   "dockerImageVersionId": 30582,
   "isGpuEnabled": false,
   "isInternetEnabled": false,
   "language": "r",
   "sourceType": "notebook"
  },
  "kernelspec": {
   "display_name": "R",
   "language": "R",
   "name": "ir"
  },
  "language_info": {
   "codemirror_mode": "r",
   "file_extension": ".r",
   "mimetype": "text/x-r-source",
   "name": "R",
   "pygments_lexer": "r",
   "version": "4.0.5"
  },
  "papermill": {
   "default_parameters": {},
   "duration": 459.273502,
   "end_time": "2023-11-30T05:40:47.914748",
   "environment_variables": {},
   "exception": null,
   "input_path": "__notebook__.ipynb",
   "output_path": "__notebook__.ipynb",
   "parameters": {},
   "start_time": "2023-11-30T05:33:08.641246",
   "version": "2.4.0"
  }
 },
 "nbformat": 4,
 "nbformat_minor": 5
}
